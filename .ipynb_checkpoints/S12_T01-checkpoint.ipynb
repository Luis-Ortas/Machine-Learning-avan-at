{
 "cells": [
  {
   "cell_type": "markdown",
   "id": "caed80ef",
   "metadata": {},
   "source": [
    "# <font color='#d50283'>IT Academy - Data Science</font>\n",
    "##  S12 T01: Pipelines, grid search i text mining\n",
    "### Luis Ortas"
   ]
  },
  {
   "cell_type": "markdown",
   "id": "fededad8",
   "metadata": {},
   "source": [
    "***\n",
    "\n",
    "## Descripció\n",
    "### Comencem a familiaritzar-nos amb Pipelines, grid search i text mining !!! Comencem amb uns quants exercicis bàsics"
   ]
  },
  {
   "cell_type": "code",
   "execution_count": 2,
   "id": "c2081c8d",
   "metadata": {
    "ExecuteTime": {
     "end_time": "2022-03-10T13:16:30.138238Z",
     "start_time": "2022-03-10T13:16:28.402959Z"
    }
   },
   "outputs": [],
   "source": [
    "import numpy as np\n",
    "import pandas as pd\n",
    "import matplotlib.pyplot as plt\n",
    "import seaborn as sns\n",
    "from sklearn.model_selection import train_test_split\n",
    "import warnings\n",
    "warnings.filterwarnings('ignore')\n",
    "from statistics import mean\n",
    "\n",
    "from sklearn.preprocessing import StandardScaler\n",
    "from sklearn.metrics import classification_report\n",
    "from sklearn.ensemble import RandomForestRegressor\n",
    "from sklearn.ensemble import RandomForestClassifier\n",
    "from sklearn.pipeline import Pipeline\n",
    "from sklearn.model_selection import GridSearchCV\n",
    "from sklearn.preprocessing import OneHotEncoder, StandardScaler, FunctionTransformer\n",
    "from sklearn.pipeline import Pipeline\n",
    "from sklearn.compose import ColumnTransformer, TransformedTargetRegressor\n",
    "from sklearn.metrics import mean_squared_error"
   ]
  },
  {
   "cell_type": "code",
   "execution_count": 3,
   "id": "38d21c10",
   "metadata": {
    "ExecuteTime": {
     "end_time": "2022-03-10T13:16:35.994353Z",
     "start_time": "2022-03-10T13:16:35.962352Z"
    }
   },
   "outputs": [],
   "source": [
    "df=pd.read_csv('barcelona.csv')"
   ]
  },
  {
   "cell_type": "code",
   "execution_count": 4,
   "id": "2095ab24",
   "metadata": {
    "ExecuteTime": {
     "end_time": "2022-03-10T13:16:47.293819Z",
     "start_time": "2022-03-10T13:16:47.243817Z"
    }
   },
   "outputs": [
    {
     "data": {
      "text/html": [
       "<div>\n",
       "<style scoped>\n",
       "    .dataframe tbody tr th:only-of-type {\n",
       "        vertical-align: middle;\n",
       "    }\n",
       "\n",
       "    .dataframe tbody tr th {\n",
       "        vertical-align: top;\n",
       "    }\n",
       "\n",
       "    .dataframe thead th {\n",
       "        text-align: right;\n",
       "    }\n",
       "</style>\n",
       "<table border=\"1\" class=\"dataframe\">\n",
       "  <thead>\n",
       "    <tr style=\"text-align: right;\">\n",
       "      <th></th>\n",
       "      <th>date_time</th>\n",
       "      <th>maxtempC</th>\n",
       "      <th>mintempC</th>\n",
       "      <th>totalSnow_cm</th>\n",
       "      <th>sunHour</th>\n",
       "      <th>uvIndex</th>\n",
       "      <th>uvIndex.1</th>\n",
       "      <th>moon_illumination</th>\n",
       "      <th>moonrise</th>\n",
       "      <th>moonset</th>\n",
       "      <th>...</th>\n",
       "      <th>WindChillC</th>\n",
       "      <th>WindGustKmph</th>\n",
       "      <th>cloudcover</th>\n",
       "      <th>humidity</th>\n",
       "      <th>precipMM</th>\n",
       "      <th>pressure</th>\n",
       "      <th>tempC</th>\n",
       "      <th>visibility</th>\n",
       "      <th>winddirDegree</th>\n",
       "      <th>windspeedKmph</th>\n",
       "    </tr>\n",
       "  </thead>\n",
       "  <tbody>\n",
       "    <tr>\n",
       "      <th>0</th>\n",
       "      <td>2008-07-01</td>\n",
       "      <td>27</td>\n",
       "      <td>22</td>\n",
       "      <td>0.0</td>\n",
       "      <td>14.5</td>\n",
       "      <td>6</td>\n",
       "      <td>6</td>\n",
       "      <td>4</td>\n",
       "      <td>04:04 AM</td>\n",
       "      <td>08:20 PM</td>\n",
       "      <td>...</td>\n",
       "      <td>25</td>\n",
       "      <td>19</td>\n",
       "      <td>8</td>\n",
       "      <td>63</td>\n",
       "      <td>0.0</td>\n",
       "      <td>1015</td>\n",
       "      <td>27</td>\n",
       "      <td>10</td>\n",
       "      <td>248</td>\n",
       "      <td>12</td>\n",
       "    </tr>\n",
       "    <tr>\n",
       "      <th>1</th>\n",
       "      <td>2008-07-02</td>\n",
       "      <td>25</td>\n",
       "      <td>19</td>\n",
       "      <td>0.0</td>\n",
       "      <td>14.5</td>\n",
       "      <td>6</td>\n",
       "      <td>6</td>\n",
       "      <td>0</td>\n",
       "      <td>05:07 AM</td>\n",
       "      <td>09:23 PM</td>\n",
       "      <td>...</td>\n",
       "      <td>24</td>\n",
       "      <td>11</td>\n",
       "      <td>6</td>\n",
       "      <td>78</td>\n",
       "      <td>0.0</td>\n",
       "      <td>1012</td>\n",
       "      <td>25</td>\n",
       "      <td>10</td>\n",
       "      <td>218</td>\n",
       "      <td>9</td>\n",
       "    </tr>\n",
       "    <tr>\n",
       "      <th>2</th>\n",
       "      <td>2008-07-03</td>\n",
       "      <td>25</td>\n",
       "      <td>20</td>\n",
       "      <td>0.0</td>\n",
       "      <td>14.5</td>\n",
       "      <td>6</td>\n",
       "      <td>6</td>\n",
       "      <td>0</td>\n",
       "      <td>06:21 AM</td>\n",
       "      <td>10:12 PM</td>\n",
       "      <td>...</td>\n",
       "      <td>23</td>\n",
       "      <td>14</td>\n",
       "      <td>22</td>\n",
       "      <td>73</td>\n",
       "      <td>0.0</td>\n",
       "      <td>1012</td>\n",
       "      <td>25</td>\n",
       "      <td>10</td>\n",
       "      <td>164</td>\n",
       "      <td>11</td>\n",
       "    </tr>\n",
       "    <tr>\n",
       "      <th>3</th>\n",
       "      <td>2008-07-04</td>\n",
       "      <td>25</td>\n",
       "      <td>19</td>\n",
       "      <td>0.0</td>\n",
       "      <td>14.5</td>\n",
       "      <td>6</td>\n",
       "      <td>6</td>\n",
       "      <td>3</td>\n",
       "      <td>07:41 AM</td>\n",
       "      <td>10:51 PM</td>\n",
       "      <td>...</td>\n",
       "      <td>22</td>\n",
       "      <td>22</td>\n",
       "      <td>5</td>\n",
       "      <td>68</td>\n",
       "      <td>0.0</td>\n",
       "      <td>1017</td>\n",
       "      <td>25</td>\n",
       "      <td>10</td>\n",
       "      <td>186</td>\n",
       "      <td>16</td>\n",
       "    </tr>\n",
       "    <tr>\n",
       "      <th>4</th>\n",
       "      <td>2008-07-05</td>\n",
       "      <td>27</td>\n",
       "      <td>20</td>\n",
       "      <td>0.0</td>\n",
       "      <td>14.5</td>\n",
       "      <td>6</td>\n",
       "      <td>6</td>\n",
       "      <td>10</td>\n",
       "      <td>08:59 AM</td>\n",
       "      <td>11:21 PM</td>\n",
       "      <td>...</td>\n",
       "      <td>24</td>\n",
       "      <td>18</td>\n",
       "      <td>5</td>\n",
       "      <td>74</td>\n",
       "      <td>0.0</td>\n",
       "      <td>1014</td>\n",
       "      <td>27</td>\n",
       "      <td>10</td>\n",
       "      <td>232</td>\n",
       "      <td>14</td>\n",
       "    </tr>\n",
       "    <tr>\n",
       "      <th>5</th>\n",
       "      <td>2008-07-06</td>\n",
       "      <td>27</td>\n",
       "      <td>20</td>\n",
       "      <td>0.0</td>\n",
       "      <td>14.5</td>\n",
       "      <td>6</td>\n",
       "      <td>6</td>\n",
       "      <td>17</td>\n",
       "      <td>10:14 AM</td>\n",
       "      <td>11:47 PM</td>\n",
       "      <td>...</td>\n",
       "      <td>24</td>\n",
       "      <td>12</td>\n",
       "      <td>10</td>\n",
       "      <td>73</td>\n",
       "      <td>0.1</td>\n",
       "      <td>1011</td>\n",
       "      <td>27</td>\n",
       "      <td>10</td>\n",
       "      <td>107</td>\n",
       "      <td>9</td>\n",
       "    </tr>\n",
       "    <tr>\n",
       "      <th>6</th>\n",
       "      <td>2008-07-07</td>\n",
       "      <td>24</td>\n",
       "      <td>19</td>\n",
       "      <td>0.0</td>\n",
       "      <td>14.5</td>\n",
       "      <td>6</td>\n",
       "      <td>6</td>\n",
       "      <td>25</td>\n",
       "      <td>11:24 AM</td>\n",
       "      <td>No moonset</td>\n",
       "      <td>...</td>\n",
       "      <td>21</td>\n",
       "      <td>15</td>\n",
       "      <td>43</td>\n",
       "      <td>77</td>\n",
       "      <td>0.7</td>\n",
       "      <td>1014</td>\n",
       "      <td>24</td>\n",
       "      <td>8</td>\n",
       "      <td>121</td>\n",
       "      <td>12</td>\n",
       "    </tr>\n",
       "    <tr>\n",
       "      <th>7</th>\n",
       "      <td>2008-07-08</td>\n",
       "      <td>23</td>\n",
       "      <td>17</td>\n",
       "      <td>0.0</td>\n",
       "      <td>14.5</td>\n",
       "      <td>6</td>\n",
       "      <td>6</td>\n",
       "      <td>32</td>\n",
       "      <td>12:31 PM</td>\n",
       "      <td>12:09 AM</td>\n",
       "      <td>...</td>\n",
       "      <td>21</td>\n",
       "      <td>14</td>\n",
       "      <td>23</td>\n",
       "      <td>76</td>\n",
       "      <td>0.0</td>\n",
       "      <td>1019</td>\n",
       "      <td>23</td>\n",
       "      <td>10</td>\n",
       "      <td>121</td>\n",
       "      <td>10</td>\n",
       "    </tr>\n",
       "    <tr>\n",
       "      <th>8</th>\n",
       "      <td>2008-07-09</td>\n",
       "      <td>25</td>\n",
       "      <td>17</td>\n",
       "      <td>0.0</td>\n",
       "      <td>14.5</td>\n",
       "      <td>6</td>\n",
       "      <td>6</td>\n",
       "      <td>39</td>\n",
       "      <td>01:36 PM</td>\n",
       "      <td>12:30 AM</td>\n",
       "      <td>...</td>\n",
       "      <td>22</td>\n",
       "      <td>12</td>\n",
       "      <td>12</td>\n",
       "      <td>79</td>\n",
       "      <td>0.0</td>\n",
       "      <td>1019</td>\n",
       "      <td>25</td>\n",
       "      <td>10</td>\n",
       "      <td>145</td>\n",
       "      <td>10</td>\n",
       "    </tr>\n",
       "    <tr>\n",
       "      <th>9</th>\n",
       "      <td>2008-07-10</td>\n",
       "      <td>25</td>\n",
       "      <td>20</td>\n",
       "      <td>0.0</td>\n",
       "      <td>14.5</td>\n",
       "      <td>6</td>\n",
       "      <td>6</td>\n",
       "      <td>47</td>\n",
       "      <td>02:39 PM</td>\n",
       "      <td>12:51 AM</td>\n",
       "      <td>...</td>\n",
       "      <td>24</td>\n",
       "      <td>16</td>\n",
       "      <td>17</td>\n",
       "      <td>76</td>\n",
       "      <td>0.0</td>\n",
       "      <td>1015</td>\n",
       "      <td>25</td>\n",
       "      <td>10</td>\n",
       "      <td>232</td>\n",
       "      <td>12</td>\n",
       "    </tr>\n",
       "  </tbody>\n",
       "</table>\n",
       "<p>10 rows × 25 columns</p>\n",
       "</div>"
      ],
      "text/plain": [
       "    date_time  maxtempC  mintempC  totalSnow_cm  sunHour  uvIndex  uvIndex.1  \\\n",
       "0  2008-07-01        27        22           0.0     14.5        6          6   \n",
       "1  2008-07-02        25        19           0.0     14.5        6          6   \n",
       "2  2008-07-03        25        20           0.0     14.5        6          6   \n",
       "3  2008-07-04        25        19           0.0     14.5        6          6   \n",
       "4  2008-07-05        27        20           0.0     14.5        6          6   \n",
       "5  2008-07-06        27        20           0.0     14.5        6          6   \n",
       "6  2008-07-07        24        19           0.0     14.5        6          6   \n",
       "7  2008-07-08        23        17           0.0     14.5        6          6   \n",
       "8  2008-07-09        25        17           0.0     14.5        6          6   \n",
       "9  2008-07-10        25        20           0.0     14.5        6          6   \n",
       "\n",
       "   moon_illumination  moonrise     moonset  ... WindChillC WindGustKmph  \\\n",
       "0                  4  04:04 AM    08:20 PM  ...         25           19   \n",
       "1                  0  05:07 AM    09:23 PM  ...         24           11   \n",
       "2                  0  06:21 AM    10:12 PM  ...         23           14   \n",
       "3                  3  07:41 AM    10:51 PM  ...         22           22   \n",
       "4                 10  08:59 AM    11:21 PM  ...         24           18   \n",
       "5                 17  10:14 AM    11:47 PM  ...         24           12   \n",
       "6                 25  11:24 AM  No moonset  ...         21           15   \n",
       "7                 32  12:31 PM    12:09 AM  ...         21           14   \n",
       "8                 39  01:36 PM    12:30 AM  ...         22           12   \n",
       "9                 47  02:39 PM    12:51 AM  ...         24           16   \n",
       "\n",
       "   cloudcover  humidity  precipMM  pressure  tempC  visibility  winddirDegree  \\\n",
       "0           8        63       0.0      1015     27          10            248   \n",
       "1           6        78       0.0      1012     25          10            218   \n",
       "2          22        73       0.0      1012     25          10            164   \n",
       "3           5        68       0.0      1017     25          10            186   \n",
       "4           5        74       0.0      1014     27          10            232   \n",
       "5          10        73       0.1      1011     27          10            107   \n",
       "6          43        77       0.7      1014     24           8            121   \n",
       "7          23        76       0.0      1019     23          10            121   \n",
       "8          12        79       0.0      1019     25          10            145   \n",
       "9          17        76       0.0      1015     25          10            232   \n",
       "\n",
       "   windspeedKmph  \n",
       "0             12  \n",
       "1              9  \n",
       "2             11  \n",
       "3             16  \n",
       "4             14  \n",
       "5              9  \n",
       "6             12  \n",
       "7             10  \n",
       "8             10  \n",
       "9             12  \n",
       "\n",
       "[10 rows x 25 columns]"
      ]
     },
     "execution_count": 4,
     "metadata": {},
     "output_type": "execute_result"
    }
   ],
   "source": [
    "df.head(10)"
   ]
  },
  {
   "cell_type": "code",
   "execution_count": 5,
   "id": "7516f09b",
   "metadata": {
    "ExecuteTime": {
     "end_time": "2022-03-10T13:16:50.676119Z",
     "start_time": "2022-03-10T13:16:50.642607Z"
    }
   },
   "outputs": [
    {
     "name": "stdout",
     "output_type": "stream",
     "text": [
      "<class 'pandas.core.frame.DataFrame'>\n",
      "RangeIndex: 3946 entries, 0 to 3945\n",
      "Data columns (total 25 columns):\n",
      " #   Column             Non-Null Count  Dtype  \n",
      "---  ------             --------------  -----  \n",
      " 0   date_time          3946 non-null   object \n",
      " 1   maxtempC           3946 non-null   int64  \n",
      " 2   mintempC           3946 non-null   int64  \n",
      " 3   totalSnow_cm       3946 non-null   float64\n",
      " 4   sunHour            3946 non-null   float64\n",
      " 5   uvIndex            3946 non-null   int64  \n",
      " 6   uvIndex.1          3946 non-null   int64  \n",
      " 7   moon_illumination  3946 non-null   int64  \n",
      " 8   moonrise           3946 non-null   object \n",
      " 9   moonset            3946 non-null   object \n",
      " 10  sunrise            3946 non-null   object \n",
      " 11  sunset             3946 non-null   object \n",
      " 12  DewPointC          3946 non-null   int64  \n",
      " 13  FeelsLikeC         3946 non-null   int64  \n",
      " 14  HeatIndexC         3946 non-null   int64  \n",
      " 15  WindChillC         3946 non-null   int64  \n",
      " 16  WindGustKmph       3946 non-null   int64  \n",
      " 17  cloudcover         3946 non-null   int64  \n",
      " 18  humidity           3946 non-null   int64  \n",
      " 19  precipMM           3946 non-null   float64\n",
      " 20  pressure           3946 non-null   int64  \n",
      " 21  tempC              3946 non-null   int64  \n",
      " 22  visibility         3946 non-null   int64  \n",
      " 23  winddirDegree      3946 non-null   int64  \n",
      " 24  windspeedKmph      3946 non-null   int64  \n",
      "dtypes: float64(3), int64(17), object(5)\n",
      "memory usage: 770.8+ KB\n"
     ]
    }
   ],
   "source": [
    "df.info()"
   ]
  },
  {
   "cell_type": "code",
   "execution_count": 6,
   "id": "6ef54c0d",
   "metadata": {
    "ExecuteTime": {
     "end_time": "2022-03-10T13:16:51.927359Z",
     "start_time": "2022-03-10T13:16:51.921360Z"
    }
   },
   "outputs": [
    {
     "data": {
      "text/plain": [
       "Index(['date_time', 'maxtempC', 'mintempC', 'totalSnow_cm', 'sunHour',\n",
       "       'uvIndex', 'uvIndex.1', 'moon_illumination', 'moonrise', 'moonset',\n",
       "       'sunrise', 'sunset', 'DewPointC', 'FeelsLikeC', 'HeatIndexC',\n",
       "       'WindChillC', 'WindGustKmph', 'cloudcover', 'humidity', 'precipMM',\n",
       "       'pressure', 'tempC', 'visibility', 'winddirDegree', 'windspeedKmph'],\n",
       "      dtype='object')"
      ]
     },
     "execution_count": 6,
     "metadata": {},
     "output_type": "execute_result"
    }
   ],
   "source": [
    "df.columns"
   ]
  },
  {
   "cell_type": "markdown",
   "id": "2c8e6d37",
   "metadata": {},
   "source": [
    "### Normalizamos el viento"
   ]
  },
  {
   "cell_type": "code",
   "execution_count": 9,
   "id": "e3307804",
   "metadata": {
    "ExecuteTime": {
     "end_time": "2022-03-10T13:17:33.214410Z",
     "start_time": "2022-03-10T13:17:33.196410Z"
    }
   },
   "outputs": [],
   "source": [
    "def wind(x):\n",
    "    w='N'\n",
    "    if x<34:\n",
    "        w='N'\n",
    "        n=0\n",
    "    elif x>34 and x<79: # no utilizamos el igual ya que todos los datos son enteros .\n",
    "        w='NE'\n",
    "        n=45\n",
    "    elif x>79 and x<124:\n",
    "        w='E'\n",
    "        d=90\n",
    "    elif x>124 and x<169:\n",
    "        w='SE'\n",
    "        d=135\n",
    "        \n",
    "    elif x>169 and x<214:\n",
    "        w='S'\n",
    "        d=180\n",
    "    elif x>214 and x<259:\n",
    "        w='SW'\n",
    "        d=225\n",
    "    elif x>259 and x<304:\n",
    "        w='W'\n",
    "        d=270\n",
    "    elif x>304 and x<349:\n",
    "        w='NW'\n",
    "        d=315\n",
    "    elif x>349: \n",
    "        w='N'\n",
    "        d=0\n",
    "\n",
    "        \n",
    "   \n",
    "        \n",
    "    return w\n",
    "df['wind']=df['winddirDegree'].apply(lambda x: wind(x))"
   ]
  },
  {
   "cell_type": "code",
   "execution_count": 10,
   "id": "c81e7de3",
   "metadata": {
    "ExecuteTime": {
     "end_time": "2022-03-10T13:17:34.303700Z",
     "start_time": "2022-03-10T13:17:34.290693Z"
    }
   },
   "outputs": [],
   "source": [
    "def wind(x):\n",
    "    w='N'\n",
    "    if x<34:\n",
    "       \n",
    "        x=0\n",
    "    elif x>34 and x<79: # no utilizamos el igual ya que todos los datos son enteros .\n",
    "       \n",
    "        x=45\n",
    "    elif x>79 and x<124:\n",
    "       \n",
    "        x=90\n",
    "    elif x>124 and x<169:\n",
    "  \n",
    "        x=135\n",
    "        \n",
    "    elif x>169 and x<214:\n",
    "      \n",
    "        x=180\n",
    "    elif x>214 and x<259:\n",
    "     \n",
    "        x=225\n",
    "    elif x>259 and x<304:\n",
    "     \n",
    "        x=270\n",
    "    elif x>304 and x<349:\n",
    "      \n",
    "        x=315\n",
    "    elif x>349: \n",
    "    \n",
    "        x=0\n",
    "\n",
    "           \n",
    "        \n",
    "    return x\n",
    "df['wind_gr']=df['winddirDegree'].apply(lambda x: wind(x))"
   ]
  },
  {
   "cell_type": "code",
   "execution_count": 12,
   "id": "5a192a2f",
   "metadata": {
    "ExecuteTime": {
     "end_time": "2022-03-10T13:17:42.952512Z",
     "start_time": "2022-03-10T13:17:42.923424Z"
    }
   },
   "outputs": [
    {
     "data": {
      "text/html": [
       "<div>\n",
       "<style scoped>\n",
       "    .dataframe tbody tr th:only-of-type {\n",
       "        vertical-align: middle;\n",
       "    }\n",
       "\n",
       "    .dataframe tbody tr th {\n",
       "        vertical-align: top;\n",
       "    }\n",
       "\n",
       "    .dataframe thead th {\n",
       "        text-align: right;\n",
       "    }\n",
       "</style>\n",
       "<table border=\"1\" class=\"dataframe\">\n",
       "  <thead>\n",
       "    <tr style=\"text-align: right;\">\n",
       "      <th></th>\n",
       "      <th>date_time</th>\n",
       "      <th>maxtempC</th>\n",
       "      <th>mintempC</th>\n",
       "      <th>totalSnow_cm</th>\n",
       "      <th>sunHour</th>\n",
       "      <th>uvIndex</th>\n",
       "      <th>uvIndex.1</th>\n",
       "      <th>moon_illumination</th>\n",
       "      <th>moonrise</th>\n",
       "      <th>moonset</th>\n",
       "      <th>...</th>\n",
       "      <th>cloudcover</th>\n",
       "      <th>humidity</th>\n",
       "      <th>precipMM</th>\n",
       "      <th>pressure</th>\n",
       "      <th>tempC</th>\n",
       "      <th>visibility</th>\n",
       "      <th>winddirDegree</th>\n",
       "      <th>windspeedKmph</th>\n",
       "      <th>wind</th>\n",
       "      <th>wind_gr</th>\n",
       "    </tr>\n",
       "  </thead>\n",
       "  <tbody>\n",
       "    <tr>\n",
       "      <th>0</th>\n",
       "      <td>2008-07-01</td>\n",
       "      <td>27</td>\n",
       "      <td>22</td>\n",
       "      <td>0.0</td>\n",
       "      <td>14.5</td>\n",
       "      <td>6</td>\n",
       "      <td>6</td>\n",
       "      <td>4</td>\n",
       "      <td>04:04 AM</td>\n",
       "      <td>08:20 PM</td>\n",
       "      <td>...</td>\n",
       "      <td>8</td>\n",
       "      <td>63</td>\n",
       "      <td>0.0</td>\n",
       "      <td>1015</td>\n",
       "      <td>27</td>\n",
       "      <td>10</td>\n",
       "      <td>248</td>\n",
       "      <td>12</td>\n",
       "      <td>SW</td>\n",
       "      <td>225</td>\n",
       "    </tr>\n",
       "    <tr>\n",
       "      <th>1</th>\n",
       "      <td>2008-07-02</td>\n",
       "      <td>25</td>\n",
       "      <td>19</td>\n",
       "      <td>0.0</td>\n",
       "      <td>14.5</td>\n",
       "      <td>6</td>\n",
       "      <td>6</td>\n",
       "      <td>0</td>\n",
       "      <td>05:07 AM</td>\n",
       "      <td>09:23 PM</td>\n",
       "      <td>...</td>\n",
       "      <td>6</td>\n",
       "      <td>78</td>\n",
       "      <td>0.0</td>\n",
       "      <td>1012</td>\n",
       "      <td>25</td>\n",
       "      <td>10</td>\n",
       "      <td>218</td>\n",
       "      <td>9</td>\n",
       "      <td>SW</td>\n",
       "      <td>225</td>\n",
       "    </tr>\n",
       "    <tr>\n",
       "      <th>2</th>\n",
       "      <td>2008-07-03</td>\n",
       "      <td>25</td>\n",
       "      <td>20</td>\n",
       "      <td>0.0</td>\n",
       "      <td>14.5</td>\n",
       "      <td>6</td>\n",
       "      <td>6</td>\n",
       "      <td>0</td>\n",
       "      <td>06:21 AM</td>\n",
       "      <td>10:12 PM</td>\n",
       "      <td>...</td>\n",
       "      <td>22</td>\n",
       "      <td>73</td>\n",
       "      <td>0.0</td>\n",
       "      <td>1012</td>\n",
       "      <td>25</td>\n",
       "      <td>10</td>\n",
       "      <td>164</td>\n",
       "      <td>11</td>\n",
       "      <td>SE</td>\n",
       "      <td>135</td>\n",
       "    </tr>\n",
       "    <tr>\n",
       "      <th>3</th>\n",
       "      <td>2008-07-04</td>\n",
       "      <td>25</td>\n",
       "      <td>19</td>\n",
       "      <td>0.0</td>\n",
       "      <td>14.5</td>\n",
       "      <td>6</td>\n",
       "      <td>6</td>\n",
       "      <td>3</td>\n",
       "      <td>07:41 AM</td>\n",
       "      <td>10:51 PM</td>\n",
       "      <td>...</td>\n",
       "      <td>5</td>\n",
       "      <td>68</td>\n",
       "      <td>0.0</td>\n",
       "      <td>1017</td>\n",
       "      <td>25</td>\n",
       "      <td>10</td>\n",
       "      <td>186</td>\n",
       "      <td>16</td>\n",
       "      <td>S</td>\n",
       "      <td>180</td>\n",
       "    </tr>\n",
       "    <tr>\n",
       "      <th>4</th>\n",
       "      <td>2008-07-05</td>\n",
       "      <td>27</td>\n",
       "      <td>20</td>\n",
       "      <td>0.0</td>\n",
       "      <td>14.5</td>\n",
       "      <td>6</td>\n",
       "      <td>6</td>\n",
       "      <td>10</td>\n",
       "      <td>08:59 AM</td>\n",
       "      <td>11:21 PM</td>\n",
       "      <td>...</td>\n",
       "      <td>5</td>\n",
       "      <td>74</td>\n",
       "      <td>0.0</td>\n",
       "      <td>1014</td>\n",
       "      <td>27</td>\n",
       "      <td>10</td>\n",
       "      <td>232</td>\n",
       "      <td>14</td>\n",
       "      <td>SW</td>\n",
       "      <td>225</td>\n",
       "    </tr>\n",
       "  </tbody>\n",
       "</table>\n",
       "<p>5 rows × 27 columns</p>\n",
       "</div>"
      ],
      "text/plain": [
       "    date_time  maxtempC  mintempC  totalSnow_cm  sunHour  uvIndex  uvIndex.1  \\\n",
       "0  2008-07-01        27        22           0.0     14.5        6          6   \n",
       "1  2008-07-02        25        19           0.0     14.5        6          6   \n",
       "2  2008-07-03        25        20           0.0     14.5        6          6   \n",
       "3  2008-07-04        25        19           0.0     14.5        6          6   \n",
       "4  2008-07-05        27        20           0.0     14.5        6          6   \n",
       "\n",
       "   moon_illumination  moonrise   moonset  ... cloudcover humidity  precipMM  \\\n",
       "0                  4  04:04 AM  08:20 PM  ...          8       63       0.0   \n",
       "1                  0  05:07 AM  09:23 PM  ...          6       78       0.0   \n",
       "2                  0  06:21 AM  10:12 PM  ...         22       73       0.0   \n",
       "3                  3  07:41 AM  10:51 PM  ...          5       68       0.0   \n",
       "4                 10  08:59 AM  11:21 PM  ...          5       74       0.0   \n",
       "\n",
       "   pressure  tempC  visibility  winddirDegree  windspeedKmph  wind  wind_gr  \n",
       "0      1015     27          10            248             12    SW      225  \n",
       "1      1012     25          10            218              9    SW      225  \n",
       "2      1012     25          10            164             11    SE      135  \n",
       "3      1017     25          10            186             16     S      180  \n",
       "4      1014     27          10            232             14    SW      225  \n",
       "\n",
       "[5 rows x 27 columns]"
      ]
     },
     "execution_count": 12,
     "metadata": {},
     "output_type": "execute_result"
    }
   ],
   "source": [
    "df.head()"
   ]
  },
  {
   "cell_type": "code",
   "execution_count": 13,
   "id": "454a1e5e",
   "metadata": {
    "ExecuteTime": {
     "end_time": "2022-03-10T13:17:46.797518Z",
     "start_time": "2022-03-10T13:17:46.778416Z"
    }
   },
   "outputs": [
    {
     "data": {
      "text/plain": [
       "date_time            0\n",
       "maxtempC             0\n",
       "mintempC             0\n",
       "totalSnow_cm         0\n",
       "sunHour              0\n",
       "uvIndex              0\n",
       "uvIndex.1            0\n",
       "moon_illumination    0\n",
       "moonrise             0\n",
       "moonset              0\n",
       "sunrise              0\n",
       "sunset               0\n",
       "DewPointC            0\n",
       "FeelsLikeC           0\n",
       "HeatIndexC           0\n",
       "WindChillC           0\n",
       "WindGustKmph         0\n",
       "cloudcover           0\n",
       "humidity             0\n",
       "precipMM             0\n",
       "pressure             0\n",
       "tempC                0\n",
       "visibility           0\n",
       "winddirDegree        0\n",
       "windspeedKmph        0\n",
       "wind                 0\n",
       "wind_gr              0\n",
       "dtype: int64"
      ]
     },
     "execution_count": 13,
     "metadata": {},
     "output_type": "execute_result"
    }
   ],
   "source": [
    "df.isna().sum()"
   ]
  },
  {
   "cell_type": "code",
   "execution_count": 14,
   "id": "e5f3a62f",
   "metadata": {
    "ExecuteTime": {
     "end_time": "2022-03-10T13:18:22.405192Z",
     "start_time": "2022-03-10T13:18:22.395005Z"
    }
   },
   "outputs": [],
   "source": [
    "# creamos la columna mes\n",
    "from datetime import datetime\n",
    "def mes(string):\n",
    "    date_object = datetime.strptime(string, \"%Y-%m-%d\")\n",
    "    mes=date_object.month\n",
    "   \n",
    "    return mes"
   ]
  },
  {
   "cell_type": "code",
   "execution_count": 15,
   "id": "52258e4b",
   "metadata": {
    "ExecuteTime": {
     "end_time": "2022-03-10T13:18:23.947378Z",
     "start_time": "2022-03-10T13:18:23.930373Z"
    }
   },
   "outputs": [
    {
     "data": {
      "text/plain": [
       "12"
      ]
     },
     "execution_count": 15,
     "metadata": {},
     "output_type": "execute_result"
    }
   ],
   "source": [
    "mes('2018-12-01')"
   ]
  },
  {
   "cell_type": "code",
   "execution_count": 16,
   "id": "c4bdcc79",
   "metadata": {
    "ExecuteTime": {
     "end_time": "2022-03-10T13:18:27.328200Z",
     "start_time": "2022-03-10T13:18:27.242165Z"
    }
   },
   "outputs": [],
   "source": [
    "df['Month']=df['date_time'].apply(lambda x: mes(x))"
   ]
  },
  {
   "cell_type": "code",
   "execution_count": 17,
   "id": "bad2e154",
   "metadata": {
    "ExecuteTime": {
     "end_time": "2022-03-10T13:18:33.992558Z",
     "start_time": "2022-03-10T13:18:33.947450Z"
    }
   },
   "outputs": [
    {
     "data": {
      "text/html": [
       "<div>\n",
       "<style scoped>\n",
       "    .dataframe tbody tr th:only-of-type {\n",
       "        vertical-align: middle;\n",
       "    }\n",
       "\n",
       "    .dataframe tbody tr th {\n",
       "        vertical-align: top;\n",
       "    }\n",
       "\n",
       "    .dataframe thead th {\n",
       "        text-align: right;\n",
       "    }\n",
       "</style>\n",
       "<table border=\"1\" class=\"dataframe\">\n",
       "  <thead>\n",
       "    <tr style=\"text-align: right;\">\n",
       "      <th></th>\n",
       "      <th>date_time</th>\n",
       "      <th>maxtempC</th>\n",
       "      <th>mintempC</th>\n",
       "      <th>totalSnow_cm</th>\n",
       "      <th>sunHour</th>\n",
       "      <th>uvIndex</th>\n",
       "      <th>uvIndex.1</th>\n",
       "      <th>moon_illumination</th>\n",
       "      <th>moonrise</th>\n",
       "      <th>moonset</th>\n",
       "      <th>...</th>\n",
       "      <th>humidity</th>\n",
       "      <th>precipMM</th>\n",
       "      <th>pressure</th>\n",
       "      <th>tempC</th>\n",
       "      <th>visibility</th>\n",
       "      <th>winddirDegree</th>\n",
       "      <th>windspeedKmph</th>\n",
       "      <th>wind</th>\n",
       "      <th>wind_gr</th>\n",
       "      <th>Month</th>\n",
       "    </tr>\n",
       "  </thead>\n",
       "  <tbody>\n",
       "    <tr>\n",
       "      <th>0</th>\n",
       "      <td>2008-07-01</td>\n",
       "      <td>27</td>\n",
       "      <td>22</td>\n",
       "      <td>0.0</td>\n",
       "      <td>14.5</td>\n",
       "      <td>6</td>\n",
       "      <td>6</td>\n",
       "      <td>4</td>\n",
       "      <td>04:04 AM</td>\n",
       "      <td>08:20 PM</td>\n",
       "      <td>...</td>\n",
       "      <td>63</td>\n",
       "      <td>0.0</td>\n",
       "      <td>1015</td>\n",
       "      <td>27</td>\n",
       "      <td>10</td>\n",
       "      <td>248</td>\n",
       "      <td>12</td>\n",
       "      <td>SW</td>\n",
       "      <td>225</td>\n",
       "      <td>7</td>\n",
       "    </tr>\n",
       "    <tr>\n",
       "      <th>1</th>\n",
       "      <td>2008-07-02</td>\n",
       "      <td>25</td>\n",
       "      <td>19</td>\n",
       "      <td>0.0</td>\n",
       "      <td>14.5</td>\n",
       "      <td>6</td>\n",
       "      <td>6</td>\n",
       "      <td>0</td>\n",
       "      <td>05:07 AM</td>\n",
       "      <td>09:23 PM</td>\n",
       "      <td>...</td>\n",
       "      <td>78</td>\n",
       "      <td>0.0</td>\n",
       "      <td>1012</td>\n",
       "      <td>25</td>\n",
       "      <td>10</td>\n",
       "      <td>218</td>\n",
       "      <td>9</td>\n",
       "      <td>SW</td>\n",
       "      <td>225</td>\n",
       "      <td>7</td>\n",
       "    </tr>\n",
       "    <tr>\n",
       "      <th>2</th>\n",
       "      <td>2008-07-03</td>\n",
       "      <td>25</td>\n",
       "      <td>20</td>\n",
       "      <td>0.0</td>\n",
       "      <td>14.5</td>\n",
       "      <td>6</td>\n",
       "      <td>6</td>\n",
       "      <td>0</td>\n",
       "      <td>06:21 AM</td>\n",
       "      <td>10:12 PM</td>\n",
       "      <td>...</td>\n",
       "      <td>73</td>\n",
       "      <td>0.0</td>\n",
       "      <td>1012</td>\n",
       "      <td>25</td>\n",
       "      <td>10</td>\n",
       "      <td>164</td>\n",
       "      <td>11</td>\n",
       "      <td>SE</td>\n",
       "      <td>135</td>\n",
       "      <td>7</td>\n",
       "    </tr>\n",
       "    <tr>\n",
       "      <th>3</th>\n",
       "      <td>2008-07-04</td>\n",
       "      <td>25</td>\n",
       "      <td>19</td>\n",
       "      <td>0.0</td>\n",
       "      <td>14.5</td>\n",
       "      <td>6</td>\n",
       "      <td>6</td>\n",
       "      <td>3</td>\n",
       "      <td>07:41 AM</td>\n",
       "      <td>10:51 PM</td>\n",
       "      <td>...</td>\n",
       "      <td>68</td>\n",
       "      <td>0.0</td>\n",
       "      <td>1017</td>\n",
       "      <td>25</td>\n",
       "      <td>10</td>\n",
       "      <td>186</td>\n",
       "      <td>16</td>\n",
       "      <td>S</td>\n",
       "      <td>180</td>\n",
       "      <td>7</td>\n",
       "    </tr>\n",
       "    <tr>\n",
       "      <th>4</th>\n",
       "      <td>2008-07-05</td>\n",
       "      <td>27</td>\n",
       "      <td>20</td>\n",
       "      <td>0.0</td>\n",
       "      <td>14.5</td>\n",
       "      <td>6</td>\n",
       "      <td>6</td>\n",
       "      <td>10</td>\n",
       "      <td>08:59 AM</td>\n",
       "      <td>11:21 PM</td>\n",
       "      <td>...</td>\n",
       "      <td>74</td>\n",
       "      <td>0.0</td>\n",
       "      <td>1014</td>\n",
       "      <td>27</td>\n",
       "      <td>10</td>\n",
       "      <td>232</td>\n",
       "      <td>14</td>\n",
       "      <td>SW</td>\n",
       "      <td>225</td>\n",
       "      <td>7</td>\n",
       "    </tr>\n",
       "  </tbody>\n",
       "</table>\n",
       "<p>5 rows × 28 columns</p>\n",
       "</div>"
      ],
      "text/plain": [
       "    date_time  maxtempC  mintempC  totalSnow_cm  sunHour  uvIndex  uvIndex.1  \\\n",
       "0  2008-07-01        27        22           0.0     14.5        6          6   \n",
       "1  2008-07-02        25        19           0.0     14.5        6          6   \n",
       "2  2008-07-03        25        20           0.0     14.5        6          6   \n",
       "3  2008-07-04        25        19           0.0     14.5        6          6   \n",
       "4  2008-07-05        27        20           0.0     14.5        6          6   \n",
       "\n",
       "   moon_illumination  moonrise   moonset  ... humidity precipMM  pressure  \\\n",
       "0                  4  04:04 AM  08:20 PM  ...       63      0.0      1015   \n",
       "1                  0  05:07 AM  09:23 PM  ...       78      0.0      1012   \n",
       "2                  0  06:21 AM  10:12 PM  ...       73      0.0      1012   \n",
       "3                  3  07:41 AM  10:51 PM  ...       68      0.0      1017   \n",
       "4                 10  08:59 AM  11:21 PM  ...       74      0.0      1014   \n",
       "\n",
       "   tempC  visibility  winddirDegree  windspeedKmph  wind  wind_gr  Month  \n",
       "0     27          10            248             12    SW      225      7  \n",
       "1     25          10            218              9    SW      225      7  \n",
       "2     25          10            164             11    SE      135      7  \n",
       "3     25          10            186             16     S      180      7  \n",
       "4     27          10            232             14    SW      225      7  \n",
       "\n",
       "[5 rows x 28 columns]"
      ]
     },
     "execution_count": 17,
     "metadata": {},
     "output_type": "execute_result"
    }
   ],
   "source": [
    "df.head()"
   ]
  },
  {
   "cell_type": "code",
   "execution_count": 15,
   "id": "e08a0e54",
   "metadata": {
    "ExecuteTime": {
     "end_time": "2022-03-10T10:23:38.438715Z",
     "start_time": "2022-03-10T10:23:38.425716Z"
    }
   },
   "outputs": [
    {
     "data": {
      "text/plain": [
       "Index(['date_time', 'maxtempC', 'mintempC', 'totalSnow_cm', 'sunHour',\n",
       "       'uvIndex', 'uvIndex.1', 'moon_illumination', 'moonrise', 'moonset',\n",
       "       'sunrise', 'sunset', 'DewPointC', 'FeelsLikeC', 'HeatIndexC',\n",
       "       'WindChillC', 'WindGustKmph', 'cloudcover', 'humidity', 'precipMM',\n",
       "       'pressure', 'tempC', 'visibility', 'winddirDegree', 'windspeedKmph',\n",
       "       'wind', 'wind_gr', 'Month'],\n",
       "      dtype='object')"
      ]
     },
     "execution_count": 15,
     "metadata": {},
     "output_type": "execute_result"
    }
   ],
   "source": [
    "df.columns"
   ]
  },
  {
   "cell_type": "code",
   "execution_count": 16,
   "id": "cff51388",
   "metadata": {
    "ExecuteTime": {
     "end_time": "2022-03-10T10:23:38.468715Z",
     "start_time": "2022-03-10T10:23:38.441714Z"
    }
   },
   "outputs": [
    {
     "name": "stdout",
     "output_type": "stream",
     "text": [
      "<class 'pandas.core.frame.DataFrame'>\n",
      "RangeIndex: 3946 entries, 0 to 3945\n",
      "Data columns (total 28 columns):\n",
      " #   Column             Non-Null Count  Dtype  \n",
      "---  ------             --------------  -----  \n",
      " 0   date_time          3946 non-null   object \n",
      " 1   maxtempC           3946 non-null   int64  \n",
      " 2   mintempC           3946 non-null   int64  \n",
      " 3   totalSnow_cm       3946 non-null   float64\n",
      " 4   sunHour            3946 non-null   float64\n",
      " 5   uvIndex            3946 non-null   int64  \n",
      " 6   uvIndex.1          3946 non-null   int64  \n",
      " 7   moon_illumination  3946 non-null   int64  \n",
      " 8   moonrise           3946 non-null   object \n",
      " 9   moonset            3946 non-null   object \n",
      " 10  sunrise            3946 non-null   object \n",
      " 11  sunset             3946 non-null   object \n",
      " 12  DewPointC          3946 non-null   int64  \n",
      " 13  FeelsLikeC         3946 non-null   int64  \n",
      " 14  HeatIndexC         3946 non-null   int64  \n",
      " 15  WindChillC         3946 non-null   int64  \n",
      " 16  WindGustKmph       3946 non-null   int64  \n",
      " 17  cloudcover         3946 non-null   int64  \n",
      " 18  humidity           3946 non-null   int64  \n",
      " 19  precipMM           3946 non-null   float64\n",
      " 20  pressure           3946 non-null   int64  \n",
      " 21  tempC              3946 non-null   int64  \n",
      " 22  visibility         3946 non-null   int64  \n",
      " 23  winddirDegree      3946 non-null   int64  \n",
      " 24  windspeedKmph      3946 non-null   int64  \n",
      " 25  wind               3946 non-null   object \n",
      " 26  wind_gr            3946 non-null   int64  \n",
      " 27  Month              3946 non-null   int64  \n",
      "dtypes: float64(3), int64(19), object(6)\n",
      "memory usage: 863.3+ KB\n"
     ]
    }
   ],
   "source": [
    "df.info()"
   ]
  },
  {
   "cell_type": "markdown",
   "id": "7205ac23",
   "metadata": {},
   "source": [
    "***\n",
    "## Exercici 1\n",
    "#### Agafa el conjunt de dades que vulguis i realitza un pipeline i un gridsearch aplicant l'algorisme de Random Forest."
   ]
  },
  {
   "cell_type": "markdown",
   "id": "07e4cf33",
   "metadata": {},
   "source": [
    "### Realizarmos dos tipos de Random Forest:\n",
    "- Clasificacion\n",
    "- Regresion."
   ]
  },
  {
   "cell_type": "markdown",
   "id": "e25a212b",
   "metadata": {},
   "source": [
    "Empezamos con clasificación. Crearemos la columna Rain cuando las precipitaciones son superiores a 0 mm."
   ]
  },
  {
   "cell_type": "markdown",
   "id": "a2e0fa8b",
   "metadata": {},
   "source": [
    "### Clasificación"
   ]
  },
  {
   "cell_type": "code",
   "execution_count": 19,
   "id": "7be37929",
   "metadata": {
    "ExecuteTime": {
     "end_time": "2022-03-10T13:23:41.961993Z",
     "start_time": "2022-03-10T13:23:41.948994Z"
    }
   },
   "outputs": [],
   "source": [
    "df_clas=df[['Month','maxtempC', 'mintempC', 'totalSnow_cm', 'sunHour','uvIndex','moon_illumination', 'FeelsLikeC',\n",
    "        'cloudcover', 'humidity', 'precipMM','pressure', 'visibility', 'windspeedKmph','wind_gr']]"
   ]
  },
  {
   "cell_type": "code",
   "execution_count": 20,
   "id": "13c0ea90",
   "metadata": {
    "ExecuteTime": {
     "end_time": "2022-03-10T13:23:44.749560Z",
     "start_time": "2022-03-10T13:23:44.729559Z"
    }
   },
   "outputs": [
    {
     "data": {
      "text/html": [
       "<div>\n",
       "<style scoped>\n",
       "    .dataframe tbody tr th:only-of-type {\n",
       "        vertical-align: middle;\n",
       "    }\n",
       "\n",
       "    .dataframe tbody tr th {\n",
       "        vertical-align: top;\n",
       "    }\n",
       "\n",
       "    .dataframe thead th {\n",
       "        text-align: right;\n",
       "    }\n",
       "</style>\n",
       "<table border=\"1\" class=\"dataframe\">\n",
       "  <thead>\n",
       "    <tr style=\"text-align: right;\">\n",
       "      <th></th>\n",
       "      <th>Month</th>\n",
       "      <th>maxtempC</th>\n",
       "      <th>mintempC</th>\n",
       "      <th>totalSnow_cm</th>\n",
       "      <th>sunHour</th>\n",
       "      <th>uvIndex</th>\n",
       "      <th>moon_illumination</th>\n",
       "      <th>FeelsLikeC</th>\n",
       "      <th>cloudcover</th>\n",
       "      <th>humidity</th>\n",
       "      <th>precipMM</th>\n",
       "      <th>pressure</th>\n",
       "      <th>visibility</th>\n",
       "      <th>windspeedKmph</th>\n",
       "      <th>wind_gr</th>\n",
       "    </tr>\n",
       "  </thead>\n",
       "  <tbody>\n",
       "    <tr>\n",
       "      <th>0</th>\n",
       "      <td>7</td>\n",
       "      <td>27</td>\n",
       "      <td>22</td>\n",
       "      <td>0.0</td>\n",
       "      <td>14.5</td>\n",
       "      <td>6</td>\n",
       "      <td>4</td>\n",
       "      <td>26</td>\n",
       "      <td>8</td>\n",
       "      <td>63</td>\n",
       "      <td>0.0</td>\n",
       "      <td>1015</td>\n",
       "      <td>10</td>\n",
       "      <td>12</td>\n",
       "      <td>225</td>\n",
       "    </tr>\n",
       "    <tr>\n",
       "      <th>1</th>\n",
       "      <td>7</td>\n",
       "      <td>25</td>\n",
       "      <td>19</td>\n",
       "      <td>0.0</td>\n",
       "      <td>14.5</td>\n",
       "      <td>6</td>\n",
       "      <td>0</td>\n",
       "      <td>26</td>\n",
       "      <td>6</td>\n",
       "      <td>78</td>\n",
       "      <td>0.0</td>\n",
       "      <td>1012</td>\n",
       "      <td>10</td>\n",
       "      <td>9</td>\n",
       "      <td>225</td>\n",
       "    </tr>\n",
       "    <tr>\n",
       "      <th>2</th>\n",
       "      <td>7</td>\n",
       "      <td>25</td>\n",
       "      <td>20</td>\n",
       "      <td>0.0</td>\n",
       "      <td>14.5</td>\n",
       "      <td>6</td>\n",
       "      <td>0</td>\n",
       "      <td>24</td>\n",
       "      <td>22</td>\n",
       "      <td>73</td>\n",
       "      <td>0.0</td>\n",
       "      <td>1012</td>\n",
       "      <td>10</td>\n",
       "      <td>11</td>\n",
       "      <td>135</td>\n",
       "    </tr>\n",
       "    <tr>\n",
       "      <th>3</th>\n",
       "      <td>7</td>\n",
       "      <td>25</td>\n",
       "      <td>19</td>\n",
       "      <td>0.0</td>\n",
       "      <td>14.5</td>\n",
       "      <td>6</td>\n",
       "      <td>3</td>\n",
       "      <td>22</td>\n",
       "      <td>5</td>\n",
       "      <td>68</td>\n",
       "      <td>0.0</td>\n",
       "      <td>1017</td>\n",
       "      <td>10</td>\n",
       "      <td>16</td>\n",
       "      <td>180</td>\n",
       "    </tr>\n",
       "    <tr>\n",
       "      <th>4</th>\n",
       "      <td>7</td>\n",
       "      <td>27</td>\n",
       "      <td>20</td>\n",
       "      <td>0.0</td>\n",
       "      <td>14.5</td>\n",
       "      <td>6</td>\n",
       "      <td>10</td>\n",
       "      <td>26</td>\n",
       "      <td>5</td>\n",
       "      <td>74</td>\n",
       "      <td>0.0</td>\n",
       "      <td>1014</td>\n",
       "      <td>10</td>\n",
       "      <td>14</td>\n",
       "      <td>225</td>\n",
       "    </tr>\n",
       "  </tbody>\n",
       "</table>\n",
       "</div>"
      ],
      "text/plain": [
       "   Month  maxtempC  mintempC  totalSnow_cm  sunHour  uvIndex  \\\n",
       "0      7        27        22           0.0     14.5        6   \n",
       "1      7        25        19           0.0     14.5        6   \n",
       "2      7        25        20           0.0     14.5        6   \n",
       "3      7        25        19           0.0     14.5        6   \n",
       "4      7        27        20           0.0     14.5        6   \n",
       "\n",
       "   moon_illumination  FeelsLikeC  cloudcover  humidity  precipMM  pressure  \\\n",
       "0                  4          26           8        63       0.0      1015   \n",
       "1                  0          26           6        78       0.0      1012   \n",
       "2                  0          24          22        73       0.0      1012   \n",
       "3                  3          22           5        68       0.0      1017   \n",
       "4                 10          26           5        74       0.0      1014   \n",
       "\n",
       "   visibility  windspeedKmph  wind_gr  \n",
       "0          10             12      225  \n",
       "1          10              9      225  \n",
       "2          10             11      135  \n",
       "3          10             16      180  \n",
       "4          10             14      225  "
      ]
     },
     "execution_count": 20,
     "metadata": {},
     "output_type": "execute_result"
    }
   ],
   "source": [
    "df_clas.head()"
   ]
  },
  {
   "cell_type": "code",
   "execution_count": 21,
   "id": "988da4cc",
   "metadata": {
    "ExecuteTime": {
     "end_time": "2022-03-10T13:23:48.443550Z",
     "start_time": "2022-03-10T13:23:48.420016Z"
    }
   },
   "outputs": [],
   "source": [
    "# precipitación por milimitros.\n",
    "df_clas['Rain'] = np.where(df_clas['precipMM'] > 0, 1, 0)\n",
    "df_clas.drop(['precipMM'],axis=1,inplace=True)"
   ]
  },
  {
   "cell_type": "code",
   "execution_count": 22,
   "id": "84c8a4c1",
   "metadata": {
    "ExecuteTime": {
     "end_time": "2022-03-10T13:23:50.635269Z",
     "start_time": "2022-03-10T13:23:50.618777Z"
    }
   },
   "outputs": [
    {
     "data": {
      "text/plain": [
       "0    2341\n",
       "1    1605\n",
       "Name: Rain, dtype: int64"
      ]
     },
     "execution_count": 22,
     "metadata": {},
     "output_type": "execute_result"
    }
   ],
   "source": [
    "df_clas.Rain.value_counts()"
   ]
  },
  {
   "cell_type": "code",
   "execution_count": 21,
   "id": "8bd04bcd",
   "metadata": {
    "ExecuteTime": {
     "end_time": "2022-03-10T10:23:38.590640Z",
     "start_time": "2022-03-10T10:23:38.577639Z"
    }
   },
   "outputs": [
    {
     "data": {
      "text/plain": [
       "Index(['Month', 'maxtempC', 'mintempC', 'totalSnow_cm', 'sunHour', 'uvIndex',\n",
       "       'moon_illumination', 'FeelsLikeC', 'cloudcover', 'humidity', 'pressure',\n",
       "       'visibility', 'windspeedKmph', 'wind_gr', 'Rain'],\n",
       "      dtype='object')"
      ]
     },
     "execution_count": 21,
     "metadata": {},
     "output_type": "execute_result"
    }
   ],
   "source": [
    "### CARACTERISTICAS\n",
    "df_clas.columns"
   ]
  },
  {
   "cell_type": "code",
   "execution_count": 23,
   "id": "6bce84fb",
   "metadata": {
    "ExecuteTime": {
     "end_time": "2022-03-10T13:24:04.407376Z",
     "start_time": "2022-03-10T13:24:04.394820Z"
    }
   },
   "outputs": [],
   "source": [
    "y=df_clas['Rain']\n",
    "X=df_clas.drop(['Rain'],axis=1)\n",
    "\n",
    "\n",
    "X_train, X_test, y_train, y_test = train_test_split(X, y, test_size=0.3, random_state=42)"
   ]
  },
  {
   "cell_type": "markdown",
   "id": "4731a595",
   "metadata": {
    "ExecuteTime": {
     "end_time": "2022-03-10T10:23:38.622644Z",
     "start_time": "2022-03-10T10:23:38.612641Z"
    }
   },
   "source": [
    "- **Base model:** PAra comparar las mejoras con el ajuste de hiperparamentros creamos un modelo RandomForest con los parametros de defecto."
   ]
  },
  {
   "cell_type": "code",
   "execution_count": 24,
   "id": "bcf668fd",
   "metadata": {
    "ExecuteTime": {
     "end_time": "2022-03-10T13:26:04.294496Z",
     "start_time": "2022-03-10T13:26:03.882632Z"
    }
   },
   "outputs": [],
   "source": [
    "scaler_base = StandardScaler()\n",
    "rf_base = RandomForestClassifier(random_state=42)\n",
    "\n",
    "pipe_base = Pipeline([('scaler', scaler_base),\n",
    "                     ('classifier', rf_base)\n",
    "                    ]);\n",
    "\n",
    "pipe_base.fit(X_train, y_train);\n"
   ]
  },
  {
   "cell_type": "code",
   "execution_count": 25,
   "id": "f1586599",
   "metadata": {
    "ExecuteTime": {
     "end_time": "2022-03-10T13:26:06.126967Z",
     "start_time": "2022-03-10T13:26:06.121964Z"
    }
   },
   "outputs": [],
   "source": [
    "target_names=['No_llueve','Llueve']"
   ]
  },
  {
   "cell_type": "code",
   "execution_count": 26,
   "id": "00474db6",
   "metadata": {
    "ExecuteTime": {
     "end_time": "2022-03-10T13:26:06.895162Z",
     "start_time": "2022-03-10T13:26:06.850629Z"
    }
   },
   "outputs": [
    {
     "name": "stdout",
     "output_type": "stream",
     "text": [
      "              precision    recall  f1-score   support\n",
      "\n",
      "   No_llueve     0.8181    0.8586    0.8378       707\n",
      "      Llueve     0.7738    0.7170    0.7443       477\n",
      "\n",
      "    accuracy                         0.8015      1184\n",
      "   macro avg     0.7959    0.7878    0.7911      1184\n",
      "weighted avg     0.8002    0.8015    0.8001      1184\n",
      "\n"
     ]
    }
   ],
   "source": [
    "print(classification_report(y_test, pipe_base.predict(X_test), digits=4, target_names=target_names))"
   ]
  },
  {
   "cell_type": "code",
   "execution_count": 27,
   "id": "8e66a077",
   "metadata": {
    "ExecuteTime": {
     "end_time": "2022-03-10T13:26:10.042913Z",
     "start_time": "2022-03-10T13:26:10.019381Z"
    },
    "scrolled": true
   },
   "outputs": [
    {
     "name": "stdout",
     "output_type": "stream",
     "text": [
      "Parameters currently in use:\n",
      "\n",
      "{'classifier': RandomForestClassifier(random_state=42),\n",
      " 'classifier__bootstrap': True,\n",
      " 'classifier__ccp_alpha': 0.0,\n",
      " 'classifier__class_weight': None,\n",
      " 'classifier__criterion': 'gini',\n",
      " 'classifier__max_depth': None,\n",
      " 'classifier__max_features': 'auto',\n",
      " 'classifier__max_leaf_nodes': None,\n",
      " 'classifier__max_samples': None,\n",
      " 'classifier__min_impurity_decrease': 0.0,\n",
      " 'classifier__min_samples_leaf': 1,\n",
      " 'classifier__min_samples_split': 2,\n",
      " 'classifier__min_weight_fraction_leaf': 0.0,\n",
      " 'classifier__n_estimators': 100,\n",
      " 'classifier__n_jobs': None,\n",
      " 'classifier__oob_score': False,\n",
      " 'classifier__random_state': 42,\n",
      " 'classifier__verbose': 0,\n",
      " 'classifier__warm_start': False,\n",
      " 'memory': None,\n",
      " 'scaler': StandardScaler(),\n",
      " 'scaler__copy': True,\n",
      " 'scaler__with_mean': True,\n",
      " 'scaler__with_std': True,\n",
      " 'steps': [('scaler', StandardScaler()),\n",
      "           ('classifier', RandomForestClassifier(random_state=42))],\n",
      " 'verbose': False}\n"
     ]
    }
   ],
   "source": [
    "from pprint import pprint\n",
    "\n",
    "# Look at parameters used by our current forest\n",
    "print('Parameters currently in use:\\n')\n",
    "pprint(pipe_base.get_params())"
   ]
  },
  {
   "cell_type": "markdown",
   "id": "595d03aa",
   "metadata": {},
   "source": [
    "Random Search: Primero hacemos una exploración rapida de los hiperparametros haciendo un random search y a partir del resultado obtenida haremos un GridSearch."
   ]
  },
  {
   "cell_type": "code",
   "execution_count": 29,
   "id": "05895cf1",
   "metadata": {
    "ExecuteTime": {
     "end_time": "2022-03-10T13:28:06.853720Z",
     "start_time": "2022-03-10T13:28:06.842719Z"
    },
    "scrolled": true
   },
   "outputs": [
    {
     "name": "stdout",
     "output_type": "stream",
     "text": [
      "{'bootstrap': [True, False],\n",
      " 'max_depth': [10, 20, 30, 40, 50, 60, 70, 80, 90, 100, 110, None],\n",
      " 'max_features': ['auto', 'sqrt'],\n",
      " 'min_samples_leaf': [1, 2, 4, 5, 6],\n",
      " 'min_samples_split': [2, 5, 10, 15],\n",
      " 'n_estimators': [100, 311, 522, 733, 944, 1155, 1366, 1577, 1788, 2000]}\n"
     ]
    }
   ],
   "source": [
    "# Random Search with Cross Validation\n",
    "\n",
    "from sklearn.model_selection import RandomizedSearchCV\n",
    "\n",
    "# Number of trees in random forest\n",
    "n_estimators = [int(x) for x in np.linspace(start = 100, stop = 2000, num = 10)]\n",
    "# Number of features to consider at every split\n",
    "max_features = ['auto', 'sqrt']\n",
    "# Maximum number of levels in tree\n",
    "max_depth = [int(x) for x in np.linspace(10, 110, num = 11)]\n",
    "max_depth.append(None)\n",
    "# Minimum number of samples required to split a node\n",
    "min_samples_split = [2, 5, 10,15]\n",
    "# Minimum number of samples required at each leaf node\n",
    "min_samples_leaf = [1, 2, 4,5,6]\n",
    "# Method of selecting samples for training each tree\n",
    "bootstrap = [True, False]\n",
    "\n",
    "# Create the random grid\n",
    "random_grid = {'n_estimators': n_estimators,\n",
    "               'max_features': max_features,\n",
    "               'max_depth': max_depth,\n",
    "               'min_samples_split': min_samples_split,\n",
    "               'min_samples_leaf': min_samples_leaf,\n",
    "               'bootstrap': bootstrap}\n",
    "\n",
    "pprint(random_grid)"
   ]
  },
  {
   "cell_type": "code",
   "execution_count": 30,
   "id": "b5caa97e",
   "metadata": {
    "ExecuteTime": {
     "end_time": "2022-03-10T13:31:31.203685Z",
     "start_time": "2022-03-10T13:28:13.346692Z"
    }
   },
   "outputs": [
    {
     "name": "stdout",
     "output_type": "stream",
     "text": [
      "Fitting 3 folds for each of 100 candidates, totalling 300 fits\n"
     ]
    }
   ],
   "source": [
    "\n",
    "\n",
    "scaler_random = StandardScaler();\n",
    "rf_random = RandomForestClassifier(random_state=42)\n",
    "\n",
    "rf_random_search = RandomizedSearchCV(estimator = rf_random, \n",
    "                               param_distributions = random_grid, \n",
    "                               n_iter = 100, \n",
    "                               cv = 3, \n",
    "                               verbose=2, \n",
    "                               random_state=42, \n",
    "                               n_jobs = -1,\n",
    "                               refit=True);\n",
    "\n",
    "pipe_random_search = Pipeline([('scaler', scaler_random),\n",
    "                     ('classifier', rf_random_search)\n",
    "                    ]);\n",
    "\n",
    "pipe_random_search.fit(X_train, y_train);"
   ]
  },
  {
   "cell_type": "code",
   "execution_count": 31,
   "id": "142418a4",
   "metadata": {
    "ExecuteTime": {
     "end_time": "2022-03-10T13:31:31.264331Z",
     "start_time": "2022-03-10T13:31:31.206686Z"
    }
   },
   "outputs": [
    {
     "name": "stdout",
     "output_type": "stream",
     "text": [
      "Classification report (Randomized Search best parameters):\n",
      "\n",
      "              precision    recall  f1-score   support\n",
      "\n",
      "   No_llueve     0.8331    0.8685    0.8504       707\n",
      "      Llueve     0.7919    0.7421    0.7662       477\n",
      "\n",
      "    accuracy                         0.8176      1184\n",
      "   macro avg     0.8125    0.8053    0.8083      1184\n",
      "weighted avg     0.8165    0.8176    0.8165      1184\n",
      "\n"
     ]
    }
   ],
   "source": [
    "print('Classification report (Randomized Search best parameters):\\n')\n",
    "print(classification_report(y_test, pipe_random_search.predict(X_test), digits=4, target_names=target_names))"
   ]
  },
  {
   "cell_type": "code",
   "execution_count": 32,
   "id": "87921dcd",
   "metadata": {
    "ExecuteTime": {
     "end_time": "2022-03-10T13:31:31.279464Z",
     "start_time": "2022-03-10T13:31:31.267333Z"
    }
   },
   "outputs": [
    {
     "name": "stdout",
     "output_type": "stream",
     "text": [
      "Best Parameters after Randomized Search:\n",
      "\n"
     ]
    },
    {
     "data": {
      "text/plain": [
       "{'n_estimators': 100,\n",
       " 'min_samples_split': 2,\n",
       " 'min_samples_leaf': 5,\n",
       " 'max_features': 'auto',\n",
       " 'max_depth': 90,\n",
       " 'bootstrap': True}"
      ]
     },
     "execution_count": 32,
     "metadata": {},
     "output_type": "execute_result"
    }
   ],
   "source": [
    "print(\"Best Parameters after Randomized Search:\\n\")\n",
    "\n",
    "pipe_random_search['classifier'].best_params_"
   ]
  },
  {
   "cell_type": "markdown",
   "id": "41d9c47b",
   "metadata": {},
   "source": [
    "GridSearch:"
   ]
  },
  {
   "cell_type": "code",
   "execution_count": 33,
   "id": "bf4d1a13",
   "metadata": {
    "ExecuteTime": {
     "end_time": "2022-03-10T13:59:57.563137Z",
     "start_time": "2022-03-10T13:44:51.818187Z"
    }
   },
   "outputs": [
    {
     "name": "stdout",
     "output_type": "stream",
     "text": [
      "Fitting 3 folds for each of 108 candidates, totalling 324 fits\n"
     ]
    },
    {
     "data": {
      "text/plain": [
       "Pipeline(steps=[('scaler', StandardScaler()),\n",
       "                ('classifier',\n",
       "                 GridSearchCV(cv=3,\n",
       "                              estimator=RandomForestClassifier(random_state=42),\n",
       "                              n_jobs=-1,\n",
       "                              param_grid={'bootstrap': [True],\n",
       "                                          'criterion': ['gini'],\n",
       "                                          'max_depth': [70, 80, 90, 100],\n",
       "                                          'max_features': ['log2'],\n",
       "                                          'min_samples_leaf': [5, 6, 7],\n",
       "                                          'min_samples_split': [10, 15, 25],\n",
       "                                          'n_estimators': [1200, 1300, 11400]},\n",
       "                              verbose=2))])"
      ]
     },
     "execution_count": 33,
     "metadata": {},
     "output_type": "execute_result"
    }
   ],
   "source": [
    "param_grid = {\n",
    "    'bootstrap': [True],\n",
    "    'criterion': ['gini'],\n",
    "    'max_depth': [70, 80, 90, 100],\n",
    "    'max_features': ['log2'],\n",
    "    'min_samples_leaf': [5,6,7],\n",
    "    'min_samples_split': [10,15,25],\n",
    "    'n_estimators': [1200, 1300, 11400]\n",
    "}\n",
    "\n",
    "scaler_grid = StandardScaler();\n",
    "rf_grid = RandomForestClassifier(random_state=42);\n",
    "\n",
    "rf_grid_search = GridSearchCV(estimator = rf_grid, \n",
    "                       param_grid = param_grid,\n",
    "                       cv = 3,\n",
    "                       verbose=2,\n",
    "                       n_jobs = -1,\n",
    "                       refit=True);\n",
    "\n",
    "pipe_grid_search = Pipeline([('scaler', scaler_grid),\n",
    "                             ('classifier', rf_grid_search)\n",
    "                            ]);\n",
    "\n",
    "pipe_grid_search.fit(X_train, y_train)"
   ]
  },
  {
   "cell_type": "code",
   "execution_count": 34,
   "id": "6a9f4314",
   "metadata": {
    "ExecuteTime": {
     "end_time": "2022-03-10T13:59:58.007236Z",
     "start_time": "2022-03-10T13:59:57.566135Z"
    }
   },
   "outputs": [
    {
     "name": "stdout",
     "output_type": "stream",
     "text": [
      "Classification report (GridSearchCV best parameters):\n",
      "              precision    recall  f1-score   support\n",
      "\n",
      "   No_llueve     0.8277    0.8699    0.8483       707\n",
      "      Llueve     0.7914    0.7317    0.7603       477\n",
      "\n",
      "    accuracy                         0.8142      1184\n",
      "   macro avg     0.8096    0.8008    0.8043      1184\n",
      "weighted avg     0.8131    0.8142    0.8129      1184\n",
      "\n"
     ]
    }
   ],
   "source": [
    "print('Classification report (GridSearchCV best parameters):')\n",
    "print(classification_report(y_test, pipe_grid_search.predict(X_test), digits=4, target_names=target_names))"
   ]
  },
  {
   "cell_type": "code",
   "execution_count": 35,
   "id": "b7ce9a34",
   "metadata": {
    "ExecuteTime": {
     "end_time": "2022-03-10T13:59:58.022518Z",
     "start_time": "2022-03-10T13:59:58.010237Z"
    }
   },
   "outputs": [
    {
     "data": {
      "text/plain": [
       "{'bootstrap': True,\n",
       " 'criterion': 'gini',\n",
       " 'max_depth': 70,\n",
       " 'max_features': 'log2',\n",
       " 'min_samples_leaf': 5,\n",
       " 'min_samples_split': 10,\n",
       " 'n_estimators': 1300}"
      ]
     },
     "execution_count": 35,
     "metadata": {},
     "output_type": "execute_result"
    }
   ],
   "source": [
    "pipe_grid_search['classifier'].best_params_"
   ]
  },
  {
   "cell_type": "code",
   "execution_count": 36,
   "id": "5e064b09",
   "metadata": {
    "ExecuteTime": {
     "end_time": "2022-03-10T14:04:06.931433Z",
     "start_time": "2022-03-10T13:59:58.025524Z"
    }
   },
   "outputs": [
    {
     "name": "stdout",
     "output_type": "stream",
     "text": [
      "Fitting 3 folds for each of 108 candidates, totalling 324 fits\n",
      "Classification report (GridSearchCV best parameters):\n",
      "              precision    recall  f1-score   support\n",
      "\n",
      "   No_llueve     0.8331    0.8685    0.8504       707\n",
      "      Llueve     0.7919    0.7421    0.7662       477\n",
      "\n",
      "    accuracy                         0.8176      1184\n",
      "   macro avg     0.8125    0.8053    0.8083      1184\n",
      "weighted avg     0.8165    0.8176    0.8165      1184\n",
      "\n"
     ]
    }
   ],
   "source": [
    "param_grid = {\n",
    "    'bootstrap': [True],\n",
    "    'criterion': ['gini'],\n",
    "    'max_depth': [70, 80, 90, 100],\n",
    "    'max_features': ['log2'],\n",
    "    'min_samples_leaf': [3,4,5,],\n",
    "    'min_samples_split': [2,5 ,10],\n",
    "    'n_estimators': [1100, 1200, 1300]\n",
    "}\n",
    "\n",
    "scaler_grid = StandardScaler();\n",
    "rf_grid = RandomForestClassifier(random_state=42);\n",
    "\n",
    "rf_grid_search = GridSearchCV(estimator = rf_grid, \n",
    "                       param_grid = param_grid,\n",
    "                       cv = 3,\n",
    "                       verbose=2,\n",
    "                       n_jobs = -1,\n",
    "                       refit=True);\n",
    "\n",
    "pipe_grid_search = Pipeline([('scaler', scaler_grid),\n",
    "                             ('classifier', rf_grid_search)\n",
    "                            ]);\n",
    "\n",
    "pipe_grid_search.fit(X_train, y_train)\n",
    "\n",
    "\n",
    "\n",
    "print('Classification report (GridSearchCV best parameters):')\n",
    "print(classification_report(y_test, pipe_grid_search.predict(X_test), digits=4, target_names=target_names))"
   ]
  },
  {
   "cell_type": "code",
   "execution_count": 39,
   "id": "d189c06c",
   "metadata": {
    "ExecuteTime": {
     "end_time": "2022-03-10T14:44:29.820589Z",
     "start_time": "2022-03-10T14:22:16.525825Z"
    }
   },
   "outputs": [
    {
     "name": "stdout",
     "output_type": "stream",
     "text": [
      "Fitting 3 folds for each of 108 candidates, totalling 324 fits\n",
      "Fitting 3 folds for each of 108 candidates, totalling 324 fits\n",
      "Fitting 3 folds for each of 108 candidates, totalling 324 fits\n",
      "Fitting 3 folds for each of 108 candidates, totalling 324 fits\n",
      "Fitting 3 folds for each of 108 candidates, totalling 324 fits\n",
      "scores: [0.82025316 0.81622307 0.79721166 0.80608365 0.7896071 ]\n",
      "Accuracy: <built-in method mean of numpy.ndarray object at 0x000001557D047030>\n",
      "Standard desviation: <built-in method std of numpy.ndarray object at 0x000001557D047030>\n"
     ]
    }
   ],
   "source": [
    "from sklearn.model_selection import cross_val_score\n",
    "\n",
    "scores = cross_val_score(pipe_grid_search, X, y, cv=5) ## cambiamos el scoring\n",
    "\n",
    "\n",
    "\n"
   ]
  },
  {
   "cell_type": "code",
   "execution_count": 50,
   "id": "f6a0b795",
   "metadata": {
    "ExecuteTime": {
     "end_time": "2022-03-10T18:37:23.289791Z",
     "start_time": "2022-03-10T18:37:23.262773Z"
    }
   },
   "outputs": [
    {
     "name": "stdout",
     "output_type": "stream",
     "text": [
      "scores: [0.82025316 0.81622307 0.79721166 0.80608365 0.7896071 ]\n",
      "Accuracy: 0.8058757279684267\n",
      "Standard desviation: 0.01143289766870235\n"
     ]
    }
   ],
   "source": [
    "print(f'scores: {scores}')\n",
    "print(f'Accuracy: {scores.mean()}')\n",
    "print(f'Standard desviation: {scores.std()}')\n"
   ]
  },
  {
   "cell_type": "code",
   "execution_count": 40,
   "id": "c0a59e27",
   "metadata": {
    "ExecuteTime": {
     "end_time": "2022-03-10T14:44:29.836118Z",
     "start_time": "2022-03-10T14:44:29.822591Z"
    }
   },
   "outputs": [
    {
     "data": {
      "text/plain": [
       "{'bootstrap': True,\n",
       " 'criterion': 'gini',\n",
       " 'max_depth': 70,\n",
       " 'max_features': 'log2',\n",
       " 'min_samples_leaf': 4,\n",
       " 'min_samples_split': 2,\n",
       " 'n_estimators': 1200}"
      ]
     },
     "execution_count": 40,
     "metadata": {},
     "output_type": "execute_result"
    }
   ],
   "source": [
    "pipe_grid_search['classifier'].best_params_"
   ]
  },
  {
   "cell_type": "markdown",
   "id": "c55dd499",
   "metadata": {},
   "source": [
    "### Clasificación\n",
    "#### Predeciremos la temperatura"
   ]
  },
  {
   "cell_type": "code",
   "execution_count": 51,
   "id": "5c1b4806",
   "metadata": {
    "ExecuteTime": {
     "end_time": "2022-03-10T18:38:54.922921Z",
     "start_time": "2022-03-10T18:38:54.896918Z"
    }
   },
   "outputs": [
    {
     "data": {
      "text/plain": [
       "Index(['date_time', 'maxtempC', 'mintempC', 'totalSnow_cm', 'sunHour',\n",
       "       'uvIndex', 'uvIndex.1', 'moon_illumination', 'moonrise', 'moonset',\n",
       "       'sunrise', 'sunset', 'DewPointC', 'FeelsLikeC', 'HeatIndexC',\n",
       "       'WindChillC', 'WindGustKmph', 'cloudcover', 'humidity', 'precipMM',\n",
       "       'pressure', 'tempC', 'visibility', 'winddirDegree', 'windspeedKmph',\n",
       "       'wind', 'wind_gr', 'Month'],\n",
       "      dtype='object')"
      ]
     },
     "execution_count": 51,
     "metadata": {},
     "output_type": "execute_result"
    }
   ],
   "source": [
    "df.columns"
   ]
  },
  {
   "cell_type": "code",
   "execution_count": 52,
   "id": "3339caa2",
   "metadata": {
    "ExecuteTime": {
     "end_time": "2022-03-10T18:38:56.768808Z",
     "start_time": "2022-03-10T18:38:56.738794Z"
    }
   },
   "outputs": [],
   "source": [
    "df_reg=df[['Month', 'totalSnow_cm', 'sunHour',\n",
    "       'uvIndex', 'moon_illumination','humidity', 'precipMM',\n",
    "           'pressure', 'visibility', 'windspeedKmph', 'wind_gr','maxtempC']]"
   ]
  },
  {
   "cell_type": "code",
   "execution_count": 53,
   "id": "5f709f89",
   "metadata": {
    "ExecuteTime": {
     "end_time": "2022-03-10T18:38:59.492820Z",
     "start_time": "2022-03-10T18:38:59.450797Z"
    }
   },
   "outputs": [
    {
     "data": {
      "text/html": [
       "<div>\n",
       "<style scoped>\n",
       "    .dataframe tbody tr th:only-of-type {\n",
       "        vertical-align: middle;\n",
       "    }\n",
       "\n",
       "    .dataframe tbody tr th {\n",
       "        vertical-align: top;\n",
       "    }\n",
       "\n",
       "    .dataframe thead th {\n",
       "        text-align: right;\n",
       "    }\n",
       "</style>\n",
       "<table border=\"1\" class=\"dataframe\">\n",
       "  <thead>\n",
       "    <tr style=\"text-align: right;\">\n",
       "      <th></th>\n",
       "      <th>Month</th>\n",
       "      <th>totalSnow_cm</th>\n",
       "      <th>sunHour</th>\n",
       "      <th>uvIndex</th>\n",
       "      <th>moon_illumination</th>\n",
       "      <th>humidity</th>\n",
       "      <th>precipMM</th>\n",
       "      <th>pressure</th>\n",
       "      <th>visibility</th>\n",
       "      <th>windspeedKmph</th>\n",
       "      <th>wind_gr</th>\n",
       "      <th>maxtempC</th>\n",
       "    </tr>\n",
       "  </thead>\n",
       "  <tbody>\n",
       "    <tr>\n",
       "      <th>0</th>\n",
       "      <td>7</td>\n",
       "      <td>0.0</td>\n",
       "      <td>14.5</td>\n",
       "      <td>6</td>\n",
       "      <td>4</td>\n",
       "      <td>63</td>\n",
       "      <td>0.0</td>\n",
       "      <td>1015</td>\n",
       "      <td>10</td>\n",
       "      <td>12</td>\n",
       "      <td>225</td>\n",
       "      <td>27</td>\n",
       "    </tr>\n",
       "    <tr>\n",
       "      <th>1</th>\n",
       "      <td>7</td>\n",
       "      <td>0.0</td>\n",
       "      <td>14.5</td>\n",
       "      <td>6</td>\n",
       "      <td>0</td>\n",
       "      <td>78</td>\n",
       "      <td>0.0</td>\n",
       "      <td>1012</td>\n",
       "      <td>10</td>\n",
       "      <td>9</td>\n",
       "      <td>225</td>\n",
       "      <td>25</td>\n",
       "    </tr>\n",
       "    <tr>\n",
       "      <th>2</th>\n",
       "      <td>7</td>\n",
       "      <td>0.0</td>\n",
       "      <td>14.5</td>\n",
       "      <td>6</td>\n",
       "      <td>0</td>\n",
       "      <td>73</td>\n",
       "      <td>0.0</td>\n",
       "      <td>1012</td>\n",
       "      <td>10</td>\n",
       "      <td>11</td>\n",
       "      <td>135</td>\n",
       "      <td>25</td>\n",
       "    </tr>\n",
       "    <tr>\n",
       "      <th>3</th>\n",
       "      <td>7</td>\n",
       "      <td>0.0</td>\n",
       "      <td>14.5</td>\n",
       "      <td>6</td>\n",
       "      <td>3</td>\n",
       "      <td>68</td>\n",
       "      <td>0.0</td>\n",
       "      <td>1017</td>\n",
       "      <td>10</td>\n",
       "      <td>16</td>\n",
       "      <td>180</td>\n",
       "      <td>25</td>\n",
       "    </tr>\n",
       "    <tr>\n",
       "      <th>4</th>\n",
       "      <td>7</td>\n",
       "      <td>0.0</td>\n",
       "      <td>14.5</td>\n",
       "      <td>6</td>\n",
       "      <td>10</td>\n",
       "      <td>74</td>\n",
       "      <td>0.0</td>\n",
       "      <td>1014</td>\n",
       "      <td>10</td>\n",
       "      <td>14</td>\n",
       "      <td>225</td>\n",
       "      <td>27</td>\n",
       "    </tr>\n",
       "  </tbody>\n",
       "</table>\n",
       "</div>"
      ],
      "text/plain": [
       "   Month  totalSnow_cm  sunHour  uvIndex  moon_illumination  humidity  \\\n",
       "0      7           0.0     14.5        6                  4        63   \n",
       "1      7           0.0     14.5        6                  0        78   \n",
       "2      7           0.0     14.5        6                  0        73   \n",
       "3      7           0.0     14.5        6                  3        68   \n",
       "4      7           0.0     14.5        6                 10        74   \n",
       "\n",
       "   precipMM  pressure  visibility  windspeedKmph  wind_gr  maxtempC  \n",
       "0       0.0      1015          10             12      225        27  \n",
       "1       0.0      1012          10              9      225        25  \n",
       "2       0.0      1012          10             11      135        25  \n",
       "3       0.0      1017          10             16      180        25  \n",
       "4       0.0      1014          10             14      225        27  "
      ]
     },
     "execution_count": 53,
     "metadata": {},
     "output_type": "execute_result"
    }
   ],
   "source": [
    "df_reg.head()"
   ]
  },
  {
   "cell_type": "code",
   "execution_count": 43,
   "id": "2c873e42",
   "metadata": {
    "ExecuteTime": {
     "end_time": "2022-03-10T14:44:29.914293Z",
     "start_time": "2022-03-10T14:44:29.901292Z"
    }
   },
   "outputs": [],
   "source": [
    "y=df_reg['maxtempC']\n",
    "X=df_reg.drop(['maxtempC'],axis=1)\n",
    "\n",
    "X_train, X_test, y_train, y_test = train_test_split(X, y, test_size=0.3, random_state=42)"
   ]
  },
  {
   "cell_type": "code",
   "execution_count": 54,
   "id": "8a5b8dac",
   "metadata": {
    "ExecuteTime": {
     "end_time": "2022-03-10T18:39:54.636349Z",
     "start_time": "2022-03-10T18:39:53.739823Z"
    }
   },
   "outputs": [],
   "source": [
    "# Base\n",
    "\n",
    "scaler_base = StandardScaler()\n",
    "rf_base = RandomForestRegressor(random_state=42)\n",
    "\n",
    "pipe_base_reg = Pipeline([('scaler', scaler_base),\n",
    "                     ('classifier', rf_base)\n",
    "                    ]);\n",
    "\n",
    "pipe_base_reg.fit(X_train, y_train);"
   ]
  },
  {
   "cell_type": "code",
   "execution_count": 55,
   "id": "d811d990",
   "metadata": {
    "ExecuteTime": {
     "end_time": "2022-03-10T18:40:06.485675Z",
     "start_time": "2022-03-10T18:40:06.362858Z"
    }
   },
   "outputs": [
    {
     "name": "stdout",
     "output_type": "stream",
     "text": [
      "RMSE on train data:  0.5548837872732552\n",
      "RMSE on test data:  1.559695483099185\n"
     ]
    }
   ],
   "source": [
    "# Predict the target on train and test data\n",
    "predict_train = pipe_base_reg.predict(X_train)\n",
    "predict_test = pipe_base_reg.predict(X_test)\n",
    "\n",
    "# Root Mean Squared Error on train and test data\n",
    "print('RMSE on train data: ', mean_squared_error(y_train, predict_train)**(0.5))\n",
    "print('RMSE on test data: ',  mean_squared_error(y_test, predict_test)**(0.5))"
   ]
  },
  {
   "cell_type": "code",
   "execution_count": 56,
   "id": "45b65632",
   "metadata": {
    "ExecuteTime": {
     "end_time": "2022-03-10T18:40:13.283483Z",
     "start_time": "2022-03-10T18:40:13.274481Z"
    }
   },
   "outputs": [],
   "source": [
    "#Función evalución\n",
    "\n",
    "def evaluate(model, X_test, y_test):\n",
    "    predictions = model.predict(X_test)\n",
    "    errors = abs(predictions - y_test)\n",
    "    mape = 100 * np.mean(errors / y_test)\n",
    "    accuracy = 100 - mape\n",
    "    print('Model Performance')\n",
    "    print('Average Error: {:0.4f} degrees.'.format(np.mean(errors)))\n",
    "    print('Accuracy = {:0.2f}%.'.format(accuracy))\n",
    "    \n",
    "    return accuracy"
   ]
  },
  {
   "cell_type": "code",
   "execution_count": 59,
   "id": "3058970d",
   "metadata": {
    "ExecuteTime": {
     "end_time": "2022-03-10T18:42:49.272112Z",
     "start_time": "2022-03-10T18:42:49.205105Z"
    }
   },
   "outputs": [
    {
     "name": "stdout",
     "output_type": "stream",
     "text": [
      "Model Performance\n",
      "Average Error: 0.4314 degrees.\n",
      "Accuracy = 97.42%.\n"
     ]
    }
   ],
   "source": [
    "base_accuracy = evaluate(pipe_base_reg, X_train, y_train)"
   ]
  },
  {
   "cell_type": "code",
   "execution_count": 65,
   "id": "af31da5c",
   "metadata": {
    "ExecuteTime": {
     "end_time": "2022-03-10T21:25:51.865722Z",
     "start_time": "2022-03-10T21:25:47.033011Z"
    }
   },
   "outputs": [
    {
     "name": "stdout",
     "output_type": "stream",
     "text": [
      "[1.64534218 1.52185844 1.4675368  1.61034126 1.98785393]\n",
      "RSME media 1.6465865219919322\n",
      "Desciación estandard 0.18187611633847486\n"
     ]
    }
   ],
   "source": [
    "from sklearn.model_selection import cross_val_score\n",
    "\n",
    "scores = cross_val_score(pipe_base_reg, X, y,scoring='neg_mean_squared_error',cv=5) ## cambiamos el scoring\n",
    "scores=np.sqrt(-scores)\n",
    "print(scores)\n",
    "print(f'RSME media {scores.mean()}')\n",
    "print(f'Desciación estandard {scores.std()}')\n"
   ]
  },
  {
   "cell_type": "code",
   "execution_count": 49,
   "id": "e9309072",
   "metadata": {
    "ExecuteTime": {
     "end_time": "2022-03-10T14:44:31.698856Z",
     "start_time": "2022-03-10T14:44:31.684855Z"
    }
   },
   "outputs": [
    {
     "name": "stdout",
     "output_type": "stream",
     "text": [
      "Parameters currently in use:\n",
      "\n",
      "{'bootstrap': True,\n",
      " 'ccp_alpha': 0.0,\n",
      " 'criterion': 'squared_error',\n",
      " 'max_depth': None,\n",
      " 'max_features': 'auto',\n",
      " 'max_leaf_nodes': None,\n",
      " 'max_samples': None,\n",
      " 'min_impurity_decrease': 0.0,\n",
      " 'min_samples_leaf': 1,\n",
      " 'min_samples_split': 2,\n",
      " 'min_weight_fraction_leaf': 0.0,\n",
      " 'n_estimators': 100,\n",
      " 'n_jobs': None,\n",
      " 'oob_score': False,\n",
      " 'random_state': 42,\n",
      " 'verbose': 0,\n",
      " 'warm_start': False}\n"
     ]
    }
   ],
   "source": [
    "# Look at parameters used by our current forest\n",
    "print('Parameters currently in use:\\n')\n",
    "pprint(rf_base.get_params())"
   ]
  },
  {
   "cell_type": "code",
   "execution_count": 64,
   "id": "f826e28f",
   "metadata": {
    "ExecuteTime": {
     "end_time": "2022-03-10T10:48:52.674876Z",
     "start_time": "2022-03-10T10:48:52.661366Z"
    }
   },
   "outputs": [
    {
     "name": "stdout",
     "output_type": "stream",
     "text": [
      "{'bootstrap': [True, False],\n",
      " 'max_depth': [10, 20, 30, 40, 50, 60, 70, 80, 90, 100, 110, None],\n",
      " 'max_features': ['auto', 'sqrt'],\n",
      " 'min_samples_leaf': [1, 2, 3],\n",
      " 'min_samples_split': [2, 5, 10],\n",
      " 'n_estimators': [100, 300, 500, 700, 900, 1100, 1300, 1500, 1700, 1900]}\n"
     ]
    }
   ],
   "source": [
    "\n",
    "# Number of trees in random forest\n",
    "n_estimators = [int(x) for x in np.linspace(start = 100, stop = 1900, num = 10)]\n",
    "# Number of features to consider at every split\n",
    "max_features = ['auto', 'sqrt']\n",
    "# Maximum number of levels in tree\n",
    "max_depth = [int(x) for x in np.linspace(10, 110, num = 11)]\n",
    "max_depth.append(None)\n",
    "# Minimum number of samples required to split a node\n",
    "min_samples_split = [2,5,10]\n",
    "# Minimum number of samples required at each leaf node\n",
    "min_samples_leaf = [1, 2, 3]\n",
    "# Method of selecting samples for training each tree\n",
    "bootstrap = [True, False]\n",
    "\n",
    "# Create the random grid\n",
    "random_grid = {'n_estimators': n_estimators,\n",
    "               'max_features': max_features,\n",
    "               'max_depth': max_depth,\n",
    "               'min_samples_split': min_samples_split,\n",
    "               'min_samples_leaf': min_samples_leaf,\n",
    "               'bootstrap': bootstrap}\n",
    "\n",
    "pprint(random_grid)"
   ]
  },
  {
   "cell_type": "code",
   "execution_count": 65,
   "id": "f1e8863d",
   "metadata": {
    "ExecuteTime": {
     "end_time": "2022-03-10T10:54:06.131818Z",
     "start_time": "2022-03-10T10:49:01.757026Z"
    }
   },
   "outputs": [
    {
     "name": "stdout",
     "output_type": "stream",
     "text": [
      "Fitting 3 folds for each of 100 candidates, totalling 300 fits\n"
     ]
    }
   ],
   "source": [
    "# Use the random grid to search for best hyperparameters\n",
    "# First create the base model to tune\n",
    "scaler_random = StandardScaler();\n",
    "rf = RandomForestRegressor(random_state = 42)\n",
    "# Random search of parameters, using 3 fold cross validation, \n",
    "# search across 100 different combinations, and use all available cores\n",
    "rf_random_searh = RandomizedSearchCV(estimator=rf, param_distributions=random_grid,\n",
    "                              n_iter = 100, scoring='neg_mean_absolute_error', \n",
    "                              cv = 3, verbose=2, random_state=42, n_jobs=-1,\n",
    "                              return_train_score=True)\n",
    "pipe_random_search_reg = Pipeline([('scaler', scaler_random),\n",
    "                     ('regresor', rf_random_search)\n",
    "                    ]);\n",
    "# Fit the random search model\n",
    "pipe_random_search_reg.fit(X_train, y_train);\n"
   ]
  },
  {
   "cell_type": "code",
   "execution_count": 66,
   "id": "44e3a468",
   "metadata": {
    "ExecuteTime": {
     "end_time": "2022-03-10T10:54:06.147821Z",
     "start_time": "2022-03-10T10:54:06.133820Z"
    }
   },
   "outputs": [
    {
     "data": {
      "text/plain": [
       "{'n_estimators': 1366,\n",
       " 'min_samples_split': 15,\n",
       " 'min_samples_leaf': 2,\n",
       " 'max_features': 'auto',\n",
       " 'max_depth': 80,\n",
       " 'bootstrap': True}"
      ]
     },
     "execution_count": 66,
     "metadata": {},
     "output_type": "execute_result"
    }
   ],
   "source": [
    "rf_random_search.best_params_"
   ]
  },
  {
   "cell_type": "code",
   "execution_count": 67,
   "id": "f9f32099",
   "metadata": {
    "ExecuteTime": {
     "end_time": "2022-03-10T10:54:06.178823Z",
     "start_time": "2022-03-10T10:54:06.150821Z"
    }
   },
   "outputs": [
    {
     "name": "stdout",
     "output_type": "stream",
     "text": [
      "Parameters currently in use:\n",
      "\n",
      "{'cv': 3,\n",
      " 'error_score': nan,\n",
      " 'estimator': RandomForestClassifier(random_state=42),\n",
      " 'estimator__bootstrap': True,\n",
      " 'estimator__ccp_alpha': 0.0,\n",
      " 'estimator__class_weight': None,\n",
      " 'estimator__criterion': 'gini',\n",
      " 'estimator__max_depth': None,\n",
      " 'estimator__max_features': 'auto',\n",
      " 'estimator__max_leaf_nodes': None,\n",
      " 'estimator__max_samples': None,\n",
      " 'estimator__min_impurity_decrease': 0.0,\n",
      " 'estimator__min_samples_leaf': 1,\n",
      " 'estimator__min_samples_split': 2,\n",
      " 'estimator__min_weight_fraction_leaf': 0.0,\n",
      " 'estimator__n_estimators': 100,\n",
      " 'estimator__n_jobs': None,\n",
      " 'estimator__oob_score': False,\n",
      " 'estimator__random_state': 42,\n",
      " 'estimator__verbose': 0,\n",
      " 'estimator__warm_start': False,\n",
      " 'n_iter': 100,\n",
      " 'n_jobs': -1,\n",
      " 'param_distributions': {'bootstrap': [True, False],\n",
      "                         'max_depth': [10,\n",
      "                                       20,\n",
      "                                       30,\n",
      "                                       40,\n",
      "                                       50,\n",
      "                                       60,\n",
      "                                       70,\n",
      "                                       80,\n",
      "                                       90,\n",
      "                                       100,\n",
      "                                       110,\n",
      "                                       None],\n",
      "                         'max_features': ['auto', 'sqrt'],\n",
      "                         'min_samples_leaf': [1, 2, 4, 5, 6],\n",
      "                         'min_samples_split': [2, 5, 10, 15],\n",
      "                         'n_estimators': [100,\n",
      "                                          311,\n",
      "                                          522,\n",
      "                                          733,\n",
      "                                          944,\n",
      "                                          1155,\n",
      "                                          1366,\n",
      "                                          1577,\n",
      "                                          1788,\n",
      "                                          2000]},\n",
      " 'pre_dispatch': '2*n_jobs',\n",
      " 'random_state': 42,\n",
      " 'refit': True,\n",
      " 'return_train_score': False,\n",
      " 'scoring': None,\n",
      " 'verbose': 2}\n"
     ]
    }
   ],
   "source": [
    "# Look at parameters used by our current forest\n",
    "print('Parameters currently in use:\\n')\n",
    "\n",
    "pprint(pipe_random_search_reg['regresor'].get_params())"
   ]
  },
  {
   "cell_type": "code",
   "execution_count": 68,
   "id": "38bdf2fa",
   "metadata": {
    "ExecuteTime": {
     "end_time": "2022-03-10T10:54:06.255902Z",
     "start_time": "2022-03-10T10:54:06.180823Z"
    }
   },
   "outputs": [
    {
     "data": {
      "text/plain": [
       "{'mean_fit_time': array([ 8.60450419,  5.90405281,  3.69124492,  1.57777754,  6.84974249,\n",
       "         0.52471328,  8.43998011,  3.29682859,  3.75289933,  9.34502975,\n",
       "         6.27169538,  9.10825769,  1.84362706,  3.69141372,  0.49942946,\n",
       "        10.46850173,  3.87810342,  5.85802348,  0.68524384,  6.21679838,\n",
       "         5.0074935 , 10.49544024,  5.78197996,  0.45841837,  8.73545329,\n",
       "         0.50341066,  4.06873918,  6.53759321,  4.60988696,  1.41777134,\n",
       "         2.12606859, 10.1412979 , 13.09530417,  8.00665911,  1.74474788,\n",
       "         1.64356081, 11.90945419,  4.91880409, 19.34086426, 11.72743273,\n",
       "         3.54902037,  9.73452997, 14.44443297, 10.64333288,  0.4558874 ,\n",
       "         6.8571589 ,  0.78002111,  9.07530705,  7.06177942, 11.39619962,\n",
       "        12.30488245, 12.73585733,  4.76080275, 14.92933695,  0.49241487,\n",
       "         0.49214705,  8.8961459 ,  7.38893572, 14.48296078,  1.91349419,\n",
       "         5.97599085,  9.1387585 , 11.39276083,  9.003311  ,  9.13383985,\n",
       "         5.60778181,  8.49529187,  2.18802309, 10.48939792,  0.80603854,\n",
       "         0.62140711, 18.38865225,  3.537709  ,  0.70381355,  7.71460485,\n",
       "        22.73854725, 12.04691704, 10.56010556,  9.51235342,  5.57417965,\n",
       "         4.78129474,  3.87739126,  6.60392165,  9.28765217, 12.50073314,\n",
       "        15.87895163,  0.89300052,  6.63586275,  5.03466082,  2.54401588,\n",
       "         3.88309987,  6.92128015,  0.64547992,  5.2733349 , 14.00335185,\n",
       "         6.9093163 , 10.99006589,  6.91442005, 11.06445885,  4.0974137 ]),\n",
       " 'std_fit_time': array([0.23452808, 0.38605463, 0.14152748, 0.07708117, 0.0501585 ,\n",
       "        0.01726039, 0.109677  , 0.10975385, 0.22957033, 0.14364012,\n",
       "        0.12872174, 0.17929271, 0.04120872, 0.05517563, 0.02795258,\n",
       "        0.38012991, 0.12778657, 0.04182806, 0.01139673, 0.10297063,\n",
       "        0.00225048, 0.1196138 , 0.1423034 , 0.01406493, 0.17017075,\n",
       "        0.01316365, 0.00573699, 0.11638356, 0.03279289, 0.02911027,\n",
       "        0.0422375 , 0.29366537, 0.28398066, 0.78069128, 0.1001477 ,\n",
       "        0.09083   , 0.71585263, 0.01633662, 0.78535729, 0.31161605,\n",
       "        0.27994765, 0.52105386, 0.21935831, 0.25610438, 0.01005953,\n",
       "        0.48920518, 0.12471956, 0.46400751, 0.19609704, 0.63294489,\n",
       "        0.1227534 , 0.19795261, 0.27905406, 0.12899091, 0.01684523,\n",
       "        0.04276403, 0.2297943 , 0.4039936 , 0.20156817, 0.09199793,\n",
       "        0.2441811 , 0.43635854, 0.38944539, 0.10504901, 0.41137604,\n",
       "        0.05124129, 0.46219382, 0.11508183, 0.24179847, 0.02254696,\n",
       "        0.06754372, 0.37863996, 0.16159939, 0.05699926, 0.17202751,\n",
       "        0.33977557, 0.36201752, 0.62342743, 0.32960072, 0.21416122,\n",
       "        0.13890519, 0.14026953, 0.16980627, 0.31059889, 0.27662797,\n",
       "        0.50550426, 0.0853178 , 0.07707623, 0.20269693, 0.24546261,\n",
       "        0.12378141, 0.21334731, 0.01571746, 0.09294931, 0.15270595,\n",
       "        0.11125611, 0.11280611, 0.07949656, 0.16731649, 0.04035213]),\n",
       " 'mean_score_time': array([0.94400517, 0.9007256 , 0.34722972, 0.17118526, 0.75646941,\n",
       "        0.06300648, 1.11681946, 0.37276427, 0.46983361, 1.20853162,\n",
       "        0.84670528, 1.0687925 , 0.22601946, 0.46757881, 0.05667178,\n",
       "        1.16892044, 0.41479548, 0.69327688, 0.06700277, 0.67309666,\n",
       "        0.55261056, 1.12740334, 0.86857748, 0.04902482, 0.79714227,\n",
       "        0.05868045, 0.42607307, 0.97320914, 0.68009273, 0.16969546,\n",
       "        0.21953042, 1.48967314, 2.68262219, 0.99483514, 0.17819468,\n",
       "        0.26701538, 1.42932701, 0.63728118, 3.09903471, 1.84113034,\n",
       "        0.48055871, 0.93903089, 3.19417715, 1.58780726, 0.054075  ,\n",
       "        0.79372064, 0.09068314, 0.9287583 , 0.82655962, 1.43723083,\n",
       "        1.54136769, 1.62592864, 0.49579477, 2.49345462, 0.05733879,\n",
       "        0.07102116, 1.22130553, 0.80120015, 2.45784171, 0.21442612,\n",
       "        0.706937  , 0.98598925, 1.44508878, 1.30188656, 1.18952672,\n",
       "        0.6505878 , 1.15157859, 0.26304483, 1.14478691, 0.08802557,\n",
       "        0.07200519, 3.12021565, 0.36428094, 0.07667255, 1.13356789,\n",
       "        2.86112666, 1.38160753, 1.23261404, 1.06564728, 0.68449338,\n",
       "        0.52013675, 0.43427221, 0.79366636, 1.41397897, 1.28038128,\n",
       "        2.21470745, 0.08467396, 0.74320332, 0.6631128 , 0.3106734 ,\n",
       "        0.37404982, 0.80411927, 0.07120721, 0.58274817, 1.48959907,\n",
       "        0.75576893, 1.13371476, 0.71201046, 0.83564099, 0.47969087]),\n",
       " 'std_score_time': array([0.0258388 , 0.09467131, 0.02395556, 0.01285232, 0.01048151,\n",
       "        0.0024497 , 0.07178912, 0.01009095, 0.05333271, 0.02634129,\n",
       "        0.02897015, 0.06124779, 0.00163492, 0.02409934, 0.00368246,\n",
       "        0.08544546, 0.01158476, 0.06383305, 0.00216164, 0.03287575,\n",
       "        0.03699591, 0.07772043, 0.04698475, 0.00215158, 0.01585352,\n",
       "        0.00463445, 0.01067998, 0.16077626, 0.12122087, 0.01148832,\n",
       "        0.0272789 , 0.08473406, 0.14500959, 0.0651671 , 0.00527339,\n",
       "        0.01849644, 0.10963036, 0.16903858, 0.32046541, 0.1341369 ,\n",
       "        0.02848797, 0.05163201, 0.45565029, 0.22008752, 0.00217548,\n",
       "        0.06266248, 0.00791854, 0.00365712, 0.05849128, 0.05087063,\n",
       "        0.16557522, 0.20434831, 0.03877393, 0.05326936, 0.00188677,\n",
       "        0.01277815, 0.17483991, 0.03490823, 0.12961535, 0.01184724,\n",
       "        0.03800077, 0.1204717 , 0.19137011, 0.03191599, 0.13831562,\n",
       "        0.06749104, 0.1757284 , 0.02140449, 0.04020921, 0.01782079,\n",
       "        0.00860365, 0.23193888, 0.04010209, 0.00329892, 0.02541064,\n",
       "        0.25964694, 0.15002465, 0.06018   , 0.06458307, 0.05007336,\n",
       "        0.01913704, 0.00346383, 0.08175434, 0.0964043 , 0.04912406,\n",
       "        0.04429788, 0.01429221, 0.06094087, 0.07881499, 0.04890025,\n",
       "        0.00827624, 0.03346329, 0.00302404, 0.02842524, 0.05539977,\n",
       "        0.02455122, 0.02428535, 0.01689267, 0.02712148, 0.0115315 ]),\n",
       " 'param_n_estimators': masked_array(data=[1788, 944, 522, 311, 1366, 100, 1788, 733, 733, 1577,\n",
       "                    1366, 1788, 311, 733, 100, 1155, 733, 1155, 100, 1155,\n",
       "                    944, 1155, 944, 100, 944, 100, 733, 1366, 944, 311,\n",
       "                    311, 1788, 1577, 944, 311, 311, 1788, 733, 2000, 1577,\n",
       "                    522, 1577, 2000, 2000, 100, 1155, 100, 1366, 1366,\n",
       "                    2000, 1788, 1366, 733, 1577, 100, 100, 1366, 1155,\n",
       "                    2000, 311, 944, 1366, 2000, 1577, 1577, 944, 1577, 311,\n",
       "                    1577, 100, 100, 2000, 522, 100, 1155, 2000, 2000, 1788,\n",
       "                    1577, 944, 733, 733, 1155, 1577, 1788, 1577, 100, 1155,\n",
       "                    733, 311, 522, 1155, 100, 733, 2000, 1155, 1577, 1155,\n",
       "                    2000, 733],\n",
       "              mask=[False, False, False, False, False, False, False, False,\n",
       "                    False, False, False, False, False, False, False, False,\n",
       "                    False, False, False, False, False, False, False, False,\n",
       "                    False, False, False, False, False, False, False, False,\n",
       "                    False, False, False, False, False, False, False, False,\n",
       "                    False, False, False, False, False, False, False, False,\n",
       "                    False, False, False, False, False, False, False, False,\n",
       "                    False, False, False, False, False, False, False, False,\n",
       "                    False, False, False, False, False, False, False, False,\n",
       "                    False, False, False, False, False, False, False, False,\n",
       "                    False, False, False, False, False, False, False, False,\n",
       "                    False, False, False, False, False, False, False, False,\n",
       "                    False, False, False, False],\n",
       "        fill_value='?',\n",
       "             dtype=object),\n",
       " 'param_min_samples_split': masked_array(data=[15, 10, 10, 15, 2, 10, 10, 5, 2, 15, 10, 15, 2, 15, 2,\n",
       "                    2, 15, 10, 2, 15, 15, 2, 10, 15, 2, 2, 10, 10, 5, 10,\n",
       "                    5, 5, 2, 5, 2, 2, 10, 2, 5, 10, 2, 2, 5, 15, 5, 15, 10,\n",
       "                    10, 5, 15, 15, 5, 10, 5, 5, 5, 15, 15, 10, 5, 2, 5, 10,\n",
       "                    15, 15, 10, 10, 2, 2, 2, 2, 5, 15, 2, 10, 2, 2, 5, 5,\n",
       "                    10, 5, 15, 15, 15, 10, 2, 10, 15, 15, 5, 2, 2, 15, 10,\n",
       "                    2, 2, 2, 10, 15, 15],\n",
       "              mask=[False, False, False, False, False, False, False, False,\n",
       "                    False, False, False, False, False, False, False, False,\n",
       "                    False, False, False, False, False, False, False, False,\n",
       "                    False, False, False, False, False, False, False, False,\n",
       "                    False, False, False, False, False, False, False, False,\n",
       "                    False, False, False, False, False, False, False, False,\n",
       "                    False, False, False, False, False, False, False, False,\n",
       "                    False, False, False, False, False, False, False, False,\n",
       "                    False, False, False, False, False, False, False, False,\n",
       "                    False, False, False, False, False, False, False, False,\n",
       "                    False, False, False, False, False, False, False, False,\n",
       "                    False, False, False, False, False, False, False, False,\n",
       "                    False, False, False, False],\n",
       "        fill_value='?',\n",
       "             dtype=object),\n",
       " 'param_min_samples_leaf': masked_array(data=[4, 4, 1, 6, 6, 5, 4, 6, 4, 1, 5, 1, 4, 6, 6, 1, 4, 6,\n",
       "                    1, 5, 1, 1, 2, 5, 1, 6, 1, 6, 5, 6, 4, 6, 2, 1, 5, 5,\n",
       "                    4, 1, 2, 4, 6, 5, 4, 1, 6, 6, 4, 1, 4, 6, 2, 1, 1, 1,\n",
       "                    6, 6, 2, 6, 4, 5, 5, 2, 6, 4, 1, 2, 6, 2, 6, 2, 5, 2,\n",
       "                    2, 2, 4, 1, 5, 4, 6, 6, 5, 6, 5, 6, 1, 2, 1, 5, 1, 1,\n",
       "                    4, 6, 4, 2, 2, 4, 2, 6, 5, 5],\n",
       "              mask=[False, False, False, False, False, False, False, False,\n",
       "                    False, False, False, False, False, False, False, False,\n",
       "                    False, False, False, False, False, False, False, False,\n",
       "                    False, False, False, False, False, False, False, False,\n",
       "                    False, False, False, False, False, False, False, False,\n",
       "                    False, False, False, False, False, False, False, False,\n",
       "                    False, False, False, False, False, False, False, False,\n",
       "                    False, False, False, False, False, False, False, False,\n",
       "                    False, False, False, False, False, False, False, False,\n",
       "                    False, False, False, False, False, False, False, False,\n",
       "                    False, False, False, False, False, False, False, False,\n",
       "                    False, False, False, False, False, False, False, False,\n",
       "                    False, False, False, False],\n",
       "        fill_value='?',\n",
       "             dtype=object),\n",
       " 'param_max_features': masked_array(data=['auto', 'sqrt', 'auto', 'auto', 'sqrt', 'auto', 'auto',\n",
       "                    'sqrt', 'sqrt', 'sqrt', 'sqrt', 'sqrt', 'sqrt', 'sqrt',\n",
       "                    'auto', 'auto', 'auto', 'sqrt', 'sqrt', 'sqrt', 'sqrt',\n",
       "                    'auto', 'auto', 'auto', 'sqrt', 'auto', 'sqrt', 'auto',\n",
       "                    'auto', 'sqrt', 'sqrt', 'auto', 'sqrt', 'auto', 'auto',\n",
       "                    'sqrt', 'auto', 'auto', 'sqrt', 'auto', 'sqrt', 'auto',\n",
       "                    'auto', 'auto', 'auto', 'auto', 'auto', 'auto', 'auto',\n",
       "                    'sqrt', 'sqrt', 'sqrt', 'auto', 'sqrt', 'auto', 'auto',\n",
       "                    'auto', 'sqrt', 'sqrt', 'auto', 'auto', 'sqrt', 'auto',\n",
       "                    'sqrt', 'sqrt', 'sqrt', 'auto', 'auto', 'sqrt', 'auto',\n",
       "                    'auto', 'sqrt', 'auto', 'sqrt', 'sqrt', 'auto', 'sqrt',\n",
       "                    'sqrt', 'auto', 'sqrt', 'sqrt', 'auto', 'auto', 'sqrt',\n",
       "                    'auto', 'auto', 'sqrt', 'sqrt', 'sqrt', 'sqrt', 'sqrt',\n",
       "                    'sqrt', 'auto', 'auto', 'sqrt', 'auto', 'auto', 'sqrt',\n",
       "                    'auto', 'auto'],\n",
       "              mask=[False, False, False, False, False, False, False, False,\n",
       "                    False, False, False, False, False, False, False, False,\n",
       "                    False, False, False, False, False, False, False, False,\n",
       "                    False, False, False, False, False, False, False, False,\n",
       "                    False, False, False, False, False, False, False, False,\n",
       "                    False, False, False, False, False, False, False, False,\n",
       "                    False, False, False, False, False, False, False, False,\n",
       "                    False, False, False, False, False, False, False, False,\n",
       "                    False, False, False, False, False, False, False, False,\n",
       "                    False, False, False, False, False, False, False, False,\n",
       "                    False, False, False, False, False, False, False, False,\n",
       "                    False, False, False, False, False, False, False, False,\n",
       "                    False, False, False, False],\n",
       "        fill_value='?',\n",
       "             dtype=object),\n",
       " 'param_max_depth': masked_array(data=[40, None, 70, 20, 110, 110, 100, 90, 20, 110, 10, 80,\n",
       "                    70, None, None, 90, None, 100, 80, 80, 30, 60, 100, 60,\n",
       "                    20, 30, 20, 70, 10, 50, 20, 100, 60, 40, 30, 10, 30,\n",
       "                    10, 20, 90, 110, None, 100, 10, 30, None, 90, 90, 10,\n",
       "                    110, 20, 30, 70, 40, 80, 50, 80, 50, 30, 70, 90, 30,\n",
       "                    None, 110, 80, 80, None, 70, 90, 90, 90, 50, 90, None,\n",
       "                    20, 110, 10, None, 70, 40, 110, 50, 40, 70, None, 90,\n",
       "                    70, None, 110, 10, 90, 80, 30, None, 60, 70, 80, 70,\n",
       "                    80, 90],\n",
       "              mask=[False, False, False, False, False, False, False, False,\n",
       "                    False, False, False, False, False, False, False, False,\n",
       "                    False, False, False, False, False, False, False, False,\n",
       "                    False, False, False, False, False, False, False, False,\n",
       "                    False, False, False, False, False, False, False, False,\n",
       "                    False, False, False, False, False, False, False, False,\n",
       "                    False, False, False, False, False, False, False, False,\n",
       "                    False, False, False, False, False, False, False, False,\n",
       "                    False, False, False, False, False, False, False, False,\n",
       "                    False, False, False, False, False, False, False, False,\n",
       "                    False, False, False, False, False, False, False, False,\n",
       "                    False, False, False, False, False, False, False, False,\n",
       "                    False, False, False, False],\n",
       "        fill_value='?',\n",
       "             dtype=object),\n",
       " 'param_bootstrap': masked_array(data=[True, False, False, False, False, False, True, True,\n",
       "                    True, False, True, True, False, False, True, False,\n",
       "                    False, True, True, False, True, False, False, True,\n",
       "                    False, True, True, True, False, True, False, False,\n",
       "                    False, False, True, True, True, True, False, False,\n",
       "                    True, True, False, True, True, False, False, False,\n",
       "                    False, False, False, False, True, False, True, True,\n",
       "                    True, False, False, True, False, True, False, False,\n",
       "                    True, True, True, True, False, False, True, False,\n",
       "                    False, True, False, False, False, True, False, False,\n",
       "                    False, True, False, False, True, False, True, True,\n",
       "                    True, False, True, True, False, False, True, True,\n",
       "                    True, False, False, False],\n",
       "              mask=[False, False, False, False, False, False, False, False,\n",
       "                    False, False, False, False, False, False, False, False,\n",
       "                    False, False, False, False, False, False, False, False,\n",
       "                    False, False, False, False, False, False, False, False,\n",
       "                    False, False, False, False, False, False, False, False,\n",
       "                    False, False, False, False, False, False, False, False,\n",
       "                    False, False, False, False, False, False, False, False,\n",
       "                    False, False, False, False, False, False, False, False,\n",
       "                    False, False, False, False, False, False, False, False,\n",
       "                    False, False, False, False, False, False, False, False,\n",
       "                    False, False, False, False, False, False, False, False,\n",
       "                    False, False, False, False, False, False, False, False,\n",
       "                    False, False, False, False],\n",
       "        fill_value='?',\n",
       "             dtype=object),\n",
       " 'params': [{'n_estimators': 1788,\n",
       "   'min_samples_split': 15,\n",
       "   'min_samples_leaf': 4,\n",
       "   'max_features': 'auto',\n",
       "   'max_depth': 40,\n",
       "   'bootstrap': True},\n",
       "  {'n_estimators': 944,\n",
       "   'min_samples_split': 10,\n",
       "   'min_samples_leaf': 4,\n",
       "   'max_features': 'sqrt',\n",
       "   'max_depth': None,\n",
       "   'bootstrap': False},\n",
       "  {'n_estimators': 522,\n",
       "   'min_samples_split': 10,\n",
       "   'min_samples_leaf': 1,\n",
       "   'max_features': 'auto',\n",
       "   'max_depth': 70,\n",
       "   'bootstrap': False},\n",
       "  {'n_estimators': 311,\n",
       "   'min_samples_split': 15,\n",
       "   'min_samples_leaf': 6,\n",
       "   'max_features': 'auto',\n",
       "   'max_depth': 20,\n",
       "   'bootstrap': False},\n",
       "  {'n_estimators': 1366,\n",
       "   'min_samples_split': 2,\n",
       "   'min_samples_leaf': 6,\n",
       "   'max_features': 'sqrt',\n",
       "   'max_depth': 110,\n",
       "   'bootstrap': False},\n",
       "  {'n_estimators': 100,\n",
       "   'min_samples_split': 10,\n",
       "   'min_samples_leaf': 5,\n",
       "   'max_features': 'auto',\n",
       "   'max_depth': 110,\n",
       "   'bootstrap': False},\n",
       "  {'n_estimators': 1788,\n",
       "   'min_samples_split': 10,\n",
       "   'min_samples_leaf': 4,\n",
       "   'max_features': 'auto',\n",
       "   'max_depth': 100,\n",
       "   'bootstrap': True},\n",
       "  {'n_estimators': 733,\n",
       "   'min_samples_split': 5,\n",
       "   'min_samples_leaf': 6,\n",
       "   'max_features': 'sqrt',\n",
       "   'max_depth': 90,\n",
       "   'bootstrap': True},\n",
       "  {'n_estimators': 733,\n",
       "   'min_samples_split': 2,\n",
       "   'min_samples_leaf': 4,\n",
       "   'max_features': 'sqrt',\n",
       "   'max_depth': 20,\n",
       "   'bootstrap': True},\n",
       "  {'n_estimators': 1577,\n",
       "   'min_samples_split': 15,\n",
       "   'min_samples_leaf': 1,\n",
       "   'max_features': 'sqrt',\n",
       "   'max_depth': 110,\n",
       "   'bootstrap': False},\n",
       "  {'n_estimators': 1366,\n",
       "   'min_samples_split': 10,\n",
       "   'min_samples_leaf': 5,\n",
       "   'max_features': 'sqrt',\n",
       "   'max_depth': 10,\n",
       "   'bootstrap': True},\n",
       "  {'n_estimators': 1788,\n",
       "   'min_samples_split': 15,\n",
       "   'min_samples_leaf': 1,\n",
       "   'max_features': 'sqrt',\n",
       "   'max_depth': 80,\n",
       "   'bootstrap': True},\n",
       "  {'n_estimators': 311,\n",
       "   'min_samples_split': 2,\n",
       "   'min_samples_leaf': 4,\n",
       "   'max_features': 'sqrt',\n",
       "   'max_depth': 70,\n",
       "   'bootstrap': False},\n",
       "  {'n_estimators': 733,\n",
       "   'min_samples_split': 15,\n",
       "   'min_samples_leaf': 6,\n",
       "   'max_features': 'sqrt',\n",
       "   'max_depth': None,\n",
       "   'bootstrap': False},\n",
       "  {'n_estimators': 100,\n",
       "   'min_samples_split': 2,\n",
       "   'min_samples_leaf': 6,\n",
       "   'max_features': 'auto',\n",
       "   'max_depth': None,\n",
       "   'bootstrap': True},\n",
       "  {'n_estimators': 1155,\n",
       "   'min_samples_split': 2,\n",
       "   'min_samples_leaf': 1,\n",
       "   'max_features': 'auto',\n",
       "   'max_depth': 90,\n",
       "   'bootstrap': False},\n",
       "  {'n_estimators': 733,\n",
       "   'min_samples_split': 15,\n",
       "   'min_samples_leaf': 4,\n",
       "   'max_features': 'auto',\n",
       "   'max_depth': None,\n",
       "   'bootstrap': False},\n",
       "  {'n_estimators': 1155,\n",
       "   'min_samples_split': 10,\n",
       "   'min_samples_leaf': 6,\n",
       "   'max_features': 'sqrt',\n",
       "   'max_depth': 100,\n",
       "   'bootstrap': True},\n",
       "  {'n_estimators': 100,\n",
       "   'min_samples_split': 2,\n",
       "   'min_samples_leaf': 1,\n",
       "   'max_features': 'sqrt',\n",
       "   'max_depth': 80,\n",
       "   'bootstrap': True},\n",
       "  {'n_estimators': 1155,\n",
       "   'min_samples_split': 15,\n",
       "   'min_samples_leaf': 5,\n",
       "   'max_features': 'sqrt',\n",
       "   'max_depth': 80,\n",
       "   'bootstrap': False},\n",
       "  {'n_estimators': 944,\n",
       "   'min_samples_split': 15,\n",
       "   'min_samples_leaf': 1,\n",
       "   'max_features': 'sqrt',\n",
       "   'max_depth': 30,\n",
       "   'bootstrap': True},\n",
       "  {'n_estimators': 1155,\n",
       "   'min_samples_split': 2,\n",
       "   'min_samples_leaf': 1,\n",
       "   'max_features': 'auto',\n",
       "   'max_depth': 60,\n",
       "   'bootstrap': False},\n",
       "  {'n_estimators': 944,\n",
       "   'min_samples_split': 10,\n",
       "   'min_samples_leaf': 2,\n",
       "   'max_features': 'auto',\n",
       "   'max_depth': 100,\n",
       "   'bootstrap': False},\n",
       "  {'n_estimators': 100,\n",
       "   'min_samples_split': 15,\n",
       "   'min_samples_leaf': 5,\n",
       "   'max_features': 'auto',\n",
       "   'max_depth': 60,\n",
       "   'bootstrap': True},\n",
       "  {'n_estimators': 944,\n",
       "   'min_samples_split': 2,\n",
       "   'min_samples_leaf': 1,\n",
       "   'max_features': 'sqrt',\n",
       "   'max_depth': 20,\n",
       "   'bootstrap': False},\n",
       "  {'n_estimators': 100,\n",
       "   'min_samples_split': 2,\n",
       "   'min_samples_leaf': 6,\n",
       "   'max_features': 'auto',\n",
       "   'max_depth': 30,\n",
       "   'bootstrap': True},\n",
       "  {'n_estimators': 733,\n",
       "   'min_samples_split': 10,\n",
       "   'min_samples_leaf': 1,\n",
       "   'max_features': 'sqrt',\n",
       "   'max_depth': 20,\n",
       "   'bootstrap': True},\n",
       "  {'n_estimators': 1366,\n",
       "   'min_samples_split': 10,\n",
       "   'min_samples_leaf': 6,\n",
       "   'max_features': 'auto',\n",
       "   'max_depth': 70,\n",
       "   'bootstrap': True},\n",
       "  {'n_estimators': 944,\n",
       "   'min_samples_split': 5,\n",
       "   'min_samples_leaf': 5,\n",
       "   'max_features': 'auto',\n",
       "   'max_depth': 10,\n",
       "   'bootstrap': False},\n",
       "  {'n_estimators': 311,\n",
       "   'min_samples_split': 10,\n",
       "   'min_samples_leaf': 6,\n",
       "   'max_features': 'sqrt',\n",
       "   'max_depth': 50,\n",
       "   'bootstrap': True},\n",
       "  {'n_estimators': 311,\n",
       "   'min_samples_split': 5,\n",
       "   'min_samples_leaf': 4,\n",
       "   'max_features': 'sqrt',\n",
       "   'max_depth': 20,\n",
       "   'bootstrap': False},\n",
       "  {'n_estimators': 1788,\n",
       "   'min_samples_split': 5,\n",
       "   'min_samples_leaf': 6,\n",
       "   'max_features': 'auto',\n",
       "   'max_depth': 100,\n",
       "   'bootstrap': False},\n",
       "  {'n_estimators': 1577,\n",
       "   'min_samples_split': 2,\n",
       "   'min_samples_leaf': 2,\n",
       "   'max_features': 'sqrt',\n",
       "   'max_depth': 60,\n",
       "   'bootstrap': False},\n",
       "  {'n_estimators': 944,\n",
       "   'min_samples_split': 5,\n",
       "   'min_samples_leaf': 1,\n",
       "   'max_features': 'auto',\n",
       "   'max_depth': 40,\n",
       "   'bootstrap': False},\n",
       "  {'n_estimators': 311,\n",
       "   'min_samples_split': 2,\n",
       "   'min_samples_leaf': 5,\n",
       "   'max_features': 'auto',\n",
       "   'max_depth': 30,\n",
       "   'bootstrap': True},\n",
       "  {'n_estimators': 311,\n",
       "   'min_samples_split': 2,\n",
       "   'min_samples_leaf': 5,\n",
       "   'max_features': 'sqrt',\n",
       "   'max_depth': 10,\n",
       "   'bootstrap': True},\n",
       "  {'n_estimators': 1788,\n",
       "   'min_samples_split': 10,\n",
       "   'min_samples_leaf': 4,\n",
       "   'max_features': 'auto',\n",
       "   'max_depth': 30,\n",
       "   'bootstrap': True},\n",
       "  {'n_estimators': 733,\n",
       "   'min_samples_split': 2,\n",
       "   'min_samples_leaf': 1,\n",
       "   'max_features': 'auto',\n",
       "   'max_depth': 10,\n",
       "   'bootstrap': True},\n",
       "  {'n_estimators': 2000,\n",
       "   'min_samples_split': 5,\n",
       "   'min_samples_leaf': 2,\n",
       "   'max_features': 'sqrt',\n",
       "   'max_depth': 20,\n",
       "   'bootstrap': False},\n",
       "  {'n_estimators': 1577,\n",
       "   'min_samples_split': 10,\n",
       "   'min_samples_leaf': 4,\n",
       "   'max_features': 'auto',\n",
       "   'max_depth': 90,\n",
       "   'bootstrap': False},\n",
       "  {'n_estimators': 522,\n",
       "   'min_samples_split': 2,\n",
       "   'min_samples_leaf': 6,\n",
       "   'max_features': 'sqrt',\n",
       "   'max_depth': 110,\n",
       "   'bootstrap': True},\n",
       "  {'n_estimators': 1577,\n",
       "   'min_samples_split': 2,\n",
       "   'min_samples_leaf': 5,\n",
       "   'max_features': 'auto',\n",
       "   'max_depth': None,\n",
       "   'bootstrap': True},\n",
       "  {'n_estimators': 2000,\n",
       "   'min_samples_split': 5,\n",
       "   'min_samples_leaf': 4,\n",
       "   'max_features': 'auto',\n",
       "   'max_depth': 100,\n",
       "   'bootstrap': False},\n",
       "  {'n_estimators': 2000,\n",
       "   'min_samples_split': 15,\n",
       "   'min_samples_leaf': 1,\n",
       "   'max_features': 'auto',\n",
       "   'max_depth': 10,\n",
       "   'bootstrap': True},\n",
       "  {'n_estimators': 100,\n",
       "   'min_samples_split': 5,\n",
       "   'min_samples_leaf': 6,\n",
       "   'max_features': 'auto',\n",
       "   'max_depth': 30,\n",
       "   'bootstrap': True},\n",
       "  {'n_estimators': 1155,\n",
       "   'min_samples_split': 15,\n",
       "   'min_samples_leaf': 6,\n",
       "   'max_features': 'auto',\n",
       "   'max_depth': None,\n",
       "   'bootstrap': False},\n",
       "  {'n_estimators': 100,\n",
       "   'min_samples_split': 10,\n",
       "   'min_samples_leaf': 4,\n",
       "   'max_features': 'auto',\n",
       "   'max_depth': 90,\n",
       "   'bootstrap': False},\n",
       "  {'n_estimators': 1366,\n",
       "   'min_samples_split': 10,\n",
       "   'min_samples_leaf': 1,\n",
       "   'max_features': 'auto',\n",
       "   'max_depth': 90,\n",
       "   'bootstrap': False},\n",
       "  {'n_estimators': 1366,\n",
       "   'min_samples_split': 5,\n",
       "   'min_samples_leaf': 4,\n",
       "   'max_features': 'auto',\n",
       "   'max_depth': 10,\n",
       "   'bootstrap': False},\n",
       "  {'n_estimators': 2000,\n",
       "   'min_samples_split': 15,\n",
       "   'min_samples_leaf': 6,\n",
       "   'max_features': 'sqrt',\n",
       "   'max_depth': 110,\n",
       "   'bootstrap': False},\n",
       "  {'n_estimators': 1788,\n",
       "   'min_samples_split': 15,\n",
       "   'min_samples_leaf': 2,\n",
       "   'max_features': 'sqrt',\n",
       "   'max_depth': 20,\n",
       "   'bootstrap': False},\n",
       "  {'n_estimators': 1366,\n",
       "   'min_samples_split': 5,\n",
       "   'min_samples_leaf': 1,\n",
       "   'max_features': 'sqrt',\n",
       "   'max_depth': 30,\n",
       "   'bootstrap': False},\n",
       "  {'n_estimators': 733,\n",
       "   'min_samples_split': 10,\n",
       "   'min_samples_leaf': 1,\n",
       "   'max_features': 'auto',\n",
       "   'max_depth': 70,\n",
       "   'bootstrap': True},\n",
       "  {'n_estimators': 1577,\n",
       "   'min_samples_split': 5,\n",
       "   'min_samples_leaf': 1,\n",
       "   'max_features': 'sqrt',\n",
       "   'max_depth': 40,\n",
       "   'bootstrap': False},\n",
       "  {'n_estimators': 100,\n",
       "   'min_samples_split': 5,\n",
       "   'min_samples_leaf': 6,\n",
       "   'max_features': 'auto',\n",
       "   'max_depth': 80,\n",
       "   'bootstrap': True},\n",
       "  {'n_estimators': 100,\n",
       "   'min_samples_split': 5,\n",
       "   'min_samples_leaf': 6,\n",
       "   'max_features': 'auto',\n",
       "   'max_depth': 50,\n",
       "   'bootstrap': True},\n",
       "  {'n_estimators': 1366,\n",
       "   'min_samples_split': 15,\n",
       "   'min_samples_leaf': 2,\n",
       "   'max_features': 'auto',\n",
       "   'max_depth': 80,\n",
       "   'bootstrap': True},\n",
       "  {'n_estimators': 1155,\n",
       "   'min_samples_split': 15,\n",
       "   'min_samples_leaf': 6,\n",
       "   'max_features': 'sqrt',\n",
       "   'max_depth': 50,\n",
       "   'bootstrap': False},\n",
       "  {'n_estimators': 2000,\n",
       "   'min_samples_split': 10,\n",
       "   'min_samples_leaf': 4,\n",
       "   'max_features': 'sqrt',\n",
       "   'max_depth': 30,\n",
       "   'bootstrap': False},\n",
       "  {'n_estimators': 311,\n",
       "   'min_samples_split': 5,\n",
       "   'min_samples_leaf': 5,\n",
       "   'max_features': 'auto',\n",
       "   'max_depth': 70,\n",
       "   'bootstrap': True},\n",
       "  {'n_estimators': 944,\n",
       "   'min_samples_split': 2,\n",
       "   'min_samples_leaf': 5,\n",
       "   'max_features': 'auto',\n",
       "   'max_depth': 90,\n",
       "   'bootstrap': False},\n",
       "  {'n_estimators': 1366,\n",
       "   'min_samples_split': 5,\n",
       "   'min_samples_leaf': 2,\n",
       "   'max_features': 'sqrt',\n",
       "   'max_depth': 30,\n",
       "   'bootstrap': True},\n",
       "  {'n_estimators': 2000,\n",
       "   'min_samples_split': 10,\n",
       "   'min_samples_leaf': 6,\n",
       "   'max_features': 'auto',\n",
       "   'max_depth': None,\n",
       "   'bootstrap': False},\n",
       "  {'n_estimators': 1577,\n",
       "   'min_samples_split': 15,\n",
       "   'min_samples_leaf': 4,\n",
       "   'max_features': 'sqrt',\n",
       "   'max_depth': 110,\n",
       "   'bootstrap': False},\n",
       "  {'n_estimators': 1577,\n",
       "   'min_samples_split': 15,\n",
       "   'min_samples_leaf': 1,\n",
       "   'max_features': 'sqrt',\n",
       "   'max_depth': 80,\n",
       "   'bootstrap': True},\n",
       "  {'n_estimators': 944,\n",
       "   'min_samples_split': 10,\n",
       "   'min_samples_leaf': 2,\n",
       "   'max_features': 'sqrt',\n",
       "   'max_depth': 80,\n",
       "   'bootstrap': True},\n",
       "  {'n_estimators': 1577,\n",
       "   'min_samples_split': 10,\n",
       "   'min_samples_leaf': 6,\n",
       "   'max_features': 'auto',\n",
       "   'max_depth': None,\n",
       "   'bootstrap': True},\n",
       "  {'n_estimators': 311,\n",
       "   'min_samples_split': 2,\n",
       "   'min_samples_leaf': 2,\n",
       "   'max_features': 'auto',\n",
       "   'max_depth': 70,\n",
       "   'bootstrap': True},\n",
       "  {'n_estimators': 1577,\n",
       "   'min_samples_split': 2,\n",
       "   'min_samples_leaf': 6,\n",
       "   'max_features': 'sqrt',\n",
       "   'max_depth': 90,\n",
       "   'bootstrap': False},\n",
       "  {'n_estimators': 100,\n",
       "   'min_samples_split': 2,\n",
       "   'min_samples_leaf': 2,\n",
       "   'max_features': 'auto',\n",
       "   'max_depth': 90,\n",
       "   'bootstrap': False},\n",
       "  {'n_estimators': 100,\n",
       "   'min_samples_split': 2,\n",
       "   'min_samples_leaf': 5,\n",
       "   'max_features': 'auto',\n",
       "   'max_depth': 90,\n",
       "   'bootstrap': True},\n",
       "  {'n_estimators': 2000,\n",
       "   'min_samples_split': 5,\n",
       "   'min_samples_leaf': 2,\n",
       "   'max_features': 'sqrt',\n",
       "   'max_depth': 50,\n",
       "   'bootstrap': False},\n",
       "  {'n_estimators': 522,\n",
       "   'min_samples_split': 15,\n",
       "   'min_samples_leaf': 2,\n",
       "   'max_features': 'auto',\n",
       "   'max_depth': 90,\n",
       "   'bootstrap': False},\n",
       "  {'n_estimators': 100,\n",
       "   'min_samples_split': 2,\n",
       "   'min_samples_leaf': 2,\n",
       "   'max_features': 'sqrt',\n",
       "   'max_depth': None,\n",
       "   'bootstrap': True},\n",
       "  {'n_estimators': 1155,\n",
       "   'min_samples_split': 10,\n",
       "   'min_samples_leaf': 4,\n",
       "   'max_features': 'sqrt',\n",
       "   'max_depth': 20,\n",
       "   'bootstrap': False},\n",
       "  {'n_estimators': 2000,\n",
       "   'min_samples_split': 2,\n",
       "   'min_samples_leaf': 1,\n",
       "   'max_features': 'auto',\n",
       "   'max_depth': 110,\n",
       "   'bootstrap': False},\n",
       "  {'n_estimators': 2000,\n",
       "   'min_samples_split': 2,\n",
       "   'min_samples_leaf': 5,\n",
       "   'max_features': 'sqrt',\n",
       "   'max_depth': 10,\n",
       "   'bootstrap': False},\n",
       "  {'n_estimators': 1788,\n",
       "   'min_samples_split': 5,\n",
       "   'min_samples_leaf': 4,\n",
       "   'max_features': 'sqrt',\n",
       "   'max_depth': None,\n",
       "   'bootstrap': True},\n",
       "  {'n_estimators': 1577,\n",
       "   'min_samples_split': 5,\n",
       "   'min_samples_leaf': 6,\n",
       "   'max_features': 'auto',\n",
       "   'max_depth': 70,\n",
       "   'bootstrap': False},\n",
       "  {'n_estimators': 944,\n",
       "   'min_samples_split': 10,\n",
       "   'min_samples_leaf': 6,\n",
       "   'max_features': 'sqrt',\n",
       "   'max_depth': 40,\n",
       "   'bootstrap': False},\n",
       "  {'n_estimators': 733,\n",
       "   'min_samples_split': 5,\n",
       "   'min_samples_leaf': 5,\n",
       "   'max_features': 'sqrt',\n",
       "   'max_depth': 110,\n",
       "   'bootstrap': False},\n",
       "  {'n_estimators': 733,\n",
       "   'min_samples_split': 15,\n",
       "   'min_samples_leaf': 6,\n",
       "   'max_features': 'auto',\n",
       "   'max_depth': 50,\n",
       "   'bootstrap': True},\n",
       "  {'n_estimators': 1155,\n",
       "   'min_samples_split': 15,\n",
       "   'min_samples_leaf': 5,\n",
       "   'max_features': 'auto',\n",
       "   'max_depth': 40,\n",
       "   'bootstrap': False},\n",
       "  {'n_estimators': 1577,\n",
       "   'min_samples_split': 15,\n",
       "   'min_samples_leaf': 6,\n",
       "   'max_features': 'sqrt',\n",
       "   'max_depth': 70,\n",
       "   'bootstrap': False},\n",
       "  {'n_estimators': 1788,\n",
       "   'min_samples_split': 10,\n",
       "   'min_samples_leaf': 1,\n",
       "   'max_features': 'auto',\n",
       "   'max_depth': None,\n",
       "   'bootstrap': True},\n",
       "  {'n_estimators': 1577,\n",
       "   'min_samples_split': 2,\n",
       "   'min_samples_leaf': 2,\n",
       "   'max_features': 'auto',\n",
       "   'max_depth': 90,\n",
       "   'bootstrap': False},\n",
       "  {'n_estimators': 100,\n",
       "   'min_samples_split': 10,\n",
       "   'min_samples_leaf': 1,\n",
       "   'max_features': 'sqrt',\n",
       "   'max_depth': 70,\n",
       "   'bootstrap': True},\n",
       "  {'n_estimators': 1155,\n",
       "   'min_samples_split': 15,\n",
       "   'min_samples_leaf': 5,\n",
       "   'max_features': 'sqrt',\n",
       "   'max_depth': None,\n",
       "   'bootstrap': True},\n",
       "  {'n_estimators': 733,\n",
       "   'min_samples_split': 15,\n",
       "   'min_samples_leaf': 1,\n",
       "   'max_features': 'sqrt',\n",
       "   'max_depth': 110,\n",
       "   'bootstrap': True},\n",
       "  {'n_estimators': 311,\n",
       "   'min_samples_split': 5,\n",
       "   'min_samples_leaf': 1,\n",
       "   'max_features': 'sqrt',\n",
       "   'max_depth': 10,\n",
       "   'bootstrap': False},\n",
       "  {'n_estimators': 522,\n",
       "   'min_samples_split': 2,\n",
       "   'min_samples_leaf': 4,\n",
       "   'max_features': 'sqrt',\n",
       "   'max_depth': 90,\n",
       "   'bootstrap': True},\n",
       "  {'n_estimators': 1155,\n",
       "   'min_samples_split': 2,\n",
       "   'min_samples_leaf': 6,\n",
       "   'max_features': 'sqrt',\n",
       "   'max_depth': 80,\n",
       "   'bootstrap': True},\n",
       "  {'n_estimators': 100,\n",
       "   'min_samples_split': 15,\n",
       "   'min_samples_leaf': 4,\n",
       "   'max_features': 'auto',\n",
       "   'max_depth': 30,\n",
       "   'bootstrap': False},\n",
       "  {'n_estimators': 733,\n",
       "   'min_samples_split': 10,\n",
       "   'min_samples_leaf': 2,\n",
       "   'max_features': 'auto',\n",
       "   'max_depth': None,\n",
       "   'bootstrap': False},\n",
       "  {'n_estimators': 2000,\n",
       "   'min_samples_split': 2,\n",
       "   'min_samples_leaf': 2,\n",
       "   'max_features': 'sqrt',\n",
       "   'max_depth': 60,\n",
       "   'bootstrap': True},\n",
       "  {'n_estimators': 1155,\n",
       "   'min_samples_split': 2,\n",
       "   'min_samples_leaf': 4,\n",
       "   'max_features': 'auto',\n",
       "   'max_depth': 70,\n",
       "   'bootstrap': True},\n",
       "  {'n_estimators': 1577,\n",
       "   'min_samples_split': 2,\n",
       "   'min_samples_leaf': 2,\n",
       "   'max_features': 'auto',\n",
       "   'max_depth': 80,\n",
       "   'bootstrap': True},\n",
       "  {'n_estimators': 1155,\n",
       "   'min_samples_split': 10,\n",
       "   'min_samples_leaf': 6,\n",
       "   'max_features': 'sqrt',\n",
       "   'max_depth': 70,\n",
       "   'bootstrap': False},\n",
       "  {'n_estimators': 2000,\n",
       "   'min_samples_split': 15,\n",
       "   'min_samples_leaf': 5,\n",
       "   'max_features': 'auto',\n",
       "   'max_depth': 80,\n",
       "   'bootstrap': False},\n",
       "  {'n_estimators': 733,\n",
       "   'min_samples_split': 15,\n",
       "   'min_samples_leaf': 5,\n",
       "   'max_features': 'auto',\n",
       "   'max_depth': 90,\n",
       "   'bootstrap': False}],\n",
       " 'split0_test_score': array([0.26275787, 0.26058632, 0.26384365, 0.24972856, 0.25081433,\n",
       "        0.24647123, 0.25950054, 0.25515744, 0.25841477, 0.25841477,\n",
       "        0.25407166, 0.25298588, 0.24864278, 0.24647123, 0.25732899,\n",
       "        0.24864278, 0.24864278, 0.25624321, 0.2432139 , 0.24647123,\n",
       "        0.24538545, 0.24864278, 0.2616721 , 0.24538545, 0.24972856,\n",
       "        0.25732899, 0.25190011, 0.25515744, 0.24972856, 0.25190011,\n",
       "        0.24972856, 0.24972856, 0.25515744, 0.25190011, 0.25515744,\n",
       "        0.24864278, 0.25950054, 0.24538545, 0.26058632, 0.26058632,\n",
       "        0.25624321, 0.25732899, 0.25624321, 0.247557  , 0.25732899,\n",
       "        0.24864278, 0.25732899, 0.25950054, 0.24429967, 0.25081433,\n",
       "        0.25298588, 0.25298588, 0.24972856, 0.25081433, 0.25732899,\n",
       "        0.25732899, 0.26384365, 0.24864278, 0.25950054, 0.25515744,\n",
       "        0.25298588, 0.24538545, 0.24864278, 0.24864278, 0.25298588,\n",
       "        0.26058632, 0.25624321, 0.25624321, 0.24972856, 0.25732899,\n",
       "        0.24104235, 0.25732899, 0.25515744, 0.25407166, 0.25624321,\n",
       "        0.24864278, 0.24212812, 0.25515744, 0.24972856, 0.25081433,\n",
       "        0.25190011, 0.25515744, 0.24647123, 0.25190011, 0.247557  ,\n",
       "        0.25515744, 0.24429967, 0.25732899, 0.247557  , 0.25081433,\n",
       "        0.26058632, 0.25624321, 0.24647123, 0.25841477, 0.2432139 ,\n",
       "        0.25515744, 0.247557  , 0.24864278, 0.25081433, 0.24864278]),\n",
       " 'split1_test_score': array([0.28230185, 0.28121607, 0.2616721 , 0.28338762, 0.28664495,\n",
       "        0.27144408, 0.2844734 , 0.26818675, 0.27795874, 0.26927253,\n",
       "        0.28013029, 0.28338762, 0.28555917, 0.27795874, 0.27144408,\n",
       "        0.25841477, 0.27795874, 0.27252986, 0.25732899, 0.28773073,\n",
       "        0.28230185, 0.25841477, 0.26384365, 0.28121607, 0.25298588,\n",
       "        0.27144408, 0.28121607, 0.27578719, 0.28664495, 0.2616721 ,\n",
       "        0.28338762, 0.28773073, 0.25950054, 0.26275787, 0.28338762,\n",
       "        0.27687296, 0.2844734 , 0.27361564, 0.26384365, 0.27795874,\n",
       "        0.26710098, 0.28230185, 0.28338762, 0.28121607, 0.27144408,\n",
       "        0.28230185, 0.27144408, 0.26927253, 0.28664495, 0.2844734 ,\n",
       "        0.27035831, 0.25841477, 0.28230185, 0.25950054, 0.27144408,\n",
       "        0.27144408, 0.28990228, 0.28230185, 0.27252986, 0.28338762,\n",
       "        0.28121607, 0.27361564, 0.28555917, 0.28338762, 0.2844734 ,\n",
       "        0.27470141, 0.27578719, 0.26275787, 0.2888165 , 0.26384365,\n",
       "        0.27795874, 0.26492942, 0.26384365, 0.25298588, 0.28013029,\n",
       "        0.25950054, 0.28555917, 0.28773073, 0.2888165 , 0.28664495,\n",
       "        0.28230185, 0.27904452, 0.28773073, 0.28230185, 0.27904452,\n",
       "        0.25950054, 0.28230185, 0.27795874, 0.27578719, 0.27361564,\n",
       "        0.27361564, 0.27252986, 0.25624321, 0.26710098, 0.26818675,\n",
       "        0.28121607, 0.26492942, 0.28773073, 0.29424539, 0.28664495]),\n",
       " 'split2_test_score': array([0.26304348, 0.26630435, 0.26413043, 0.26304348, 0.26630435,\n",
       "        0.2576087 , 0.2673913 , 0.26521739, 0.26304348, 0.26413043,\n",
       "        0.26413043, 0.26630435, 0.2673913 , 0.27065217, 0.27391304,\n",
       "        0.25217391, 0.26195652, 0.26195652, 0.26086957, 0.25869565,\n",
       "        0.26304348, 0.25217391, 0.25434783, 0.25434783, 0.25652174,\n",
       "        0.27391304, 0.26630435, 0.26956522, 0.2673913 , 0.27173913,\n",
       "        0.26195652, 0.26630435, 0.2576087 , 0.25869565, 0.26630435,\n",
       "        0.27065217, 0.2673913 , 0.26304348, 0.2576087 , 0.26630435,\n",
       "        0.26304348, 0.26521739, 0.26304348, 0.26413043, 0.27391304,\n",
       "        0.27173913, 0.26956522, 0.25978261, 0.26304348, 0.26521739,\n",
       "        0.26086957, 0.2576087 , 0.2673913 , 0.26086957, 0.27391304,\n",
       "        0.27391304, 0.26521739, 0.27173913, 0.26521739, 0.26630435,\n",
       "        0.26413043, 0.26086957, 0.26521739, 0.26304348, 0.26847826,\n",
       "        0.26630435, 0.26847826, 0.26195652, 0.26630435, 0.26413043,\n",
       "        0.26521739, 0.25543478, 0.26413043, 0.27065217, 0.26521739,\n",
       "        0.26086957, 0.26521739, 0.26304348, 0.26630435, 0.26956522,\n",
       "        0.26630435, 0.26413043, 0.25869565, 0.27065217, 0.26521739,\n",
       "        0.2576087 , 0.26521739, 0.26086957, 0.25869565, 0.26521739,\n",
       "        0.25978261, 0.26195652, 0.26630435, 0.25217391, 0.26847826,\n",
       "        0.26195652, 0.26847826, 0.26956522, 0.26195652, 0.26086957]),\n",
       " 'mean_test_score': array([0.26936773, 0.26936891, 0.26321539, 0.26538655, 0.26792121,\n",
       "        0.258508  , 0.27045508, 0.26285386, 0.26647233, 0.26393924,\n",
       "        0.2661108 , 0.26755928, 0.26719775, 0.26502738, 0.26756204,\n",
       "        0.25307715, 0.26285268, 0.26357653, 0.25380415, 0.2642992 ,\n",
       "        0.26357692, 0.25307715, 0.25995452, 0.26031645, 0.25307873,\n",
       "        0.26756204, 0.26647351, 0.26683661, 0.2679216 , 0.26177044,\n",
       "        0.26502423, 0.26792121, 0.25742223, 0.25778454, 0.26828314,\n",
       "        0.26538931, 0.27045508, 0.26068152, 0.26067955, 0.26828314,\n",
       "        0.26212922, 0.26828274, 0.2675581 , 0.26430117, 0.26756204,\n",
       "        0.26756125, 0.26611276, 0.26285189, 0.2646627 , 0.26683504,\n",
       "        0.26140459, 0.25633645, 0.2664739 , 0.25706148, 0.26756204,\n",
       "        0.26756204, 0.27298777, 0.26756125, 0.26574926, 0.26828314,\n",
       "        0.2661108 , 0.25995688, 0.26647312, 0.26502463, 0.26864585,\n",
       "        0.26719736, 0.26683622, 0.2603192 , 0.26828314, 0.26176769,\n",
       "        0.26140616, 0.25923107, 0.26104384, 0.25923657, 0.26719697,\n",
       "        0.25633763, 0.26430156, 0.26864388, 0.26828314, 0.26900817,\n",
       "        0.26683543, 0.2661108 , 0.2642992 , 0.26828471, 0.26393964,\n",
       "        0.25742223, 0.26393964, 0.26538577, 0.26067995, 0.26321579,\n",
       "        0.26466152, 0.26357653, 0.2563396 , 0.25922989, 0.25995964,\n",
       "        0.26611001, 0.26032156, 0.26864624, 0.26900541, 0.26538577]),\n",
       " 'std_test_score': array([0.00914654, 0.00869637, 0.00109754, 0.01384078, 0.0146724 ,\n",
       "        0.01021494, 0.01042276, 0.00557557, 0.00833904, 0.00443472,\n",
       "        0.01073016, 0.01244314, 0.01507168, 0.01345597, 0.00730572,\n",
       "        0.0040402 , 0.01198495, 0.00674695, 0.00762666, 0.01730388,\n",
       "        0.01507577, 0.0040402 , 0.00406245, 0.01522447, 0.00277408,\n",
       "        0.00730572, 0.01196879, 0.00864024, 0.01507572, 0.00809955,\n",
       "        0.01391142, 0.01555639, 0.00177796, 0.00447924, 0.01160955,\n",
       "        0.01211085, 0.01042276, 0.01164531, 0.00254626, 0.00722897,\n",
       "        0.00447956, 0.01042299, 0.01153231, 0.01374179, 0.00730572,\n",
       "        0.01405523, 0.00625825, 0.00454154, 0.01732526, 0.01378878,\n",
       "        0.00710234, 0.00239195, 0.0133138 , 0.00445262, 0.00730572,\n",
       "        0.00730572, 0.0119735 , 0.01405523, 0.00533248, 0.01160955,\n",
       "        0.01160969, 0.01154298, 0.01509719, 0.01425353, 0.01285527,\n",
       "        0.00579696, 0.00806283, 0.00290067, 0.01601881, 0.00314082,\n",
       "        0.01531011, 0.00410288, 0.00416396, 0.00808421, 0.00985181,\n",
       "        0.00546971, 0.01774248, 0.01387511, 0.01601881, 0.01463309,\n",
       "        0.01241714, 0.00985189, 0.01730388, 0.01252385, 0.01288644,\n",
       "        0.00177796, 0.01554061, 0.00900717, 0.01161002, 0.00941558,\n",
       "        0.00634001, 0.00674695, 0.00809712, 0.00612115, 0.01184162,\n",
       "        0.01103635, 0.00914145, 0.01597081, 0.01841791, 0.01583958]),\n",
       " 'rank_test_score': array([ 5,  4, 67, 48, 19, 89,  2, 68, 40, 62, 42, 28, 30, 51, 21, 99, 69,\n",
       "        64, 97, 58, 63, 99, 85, 82, 98, 21, 38, 33, 18, 72, 53, 19, 91, 90,\n",
       "        12, 47,  2, 77, 79, 12, 71, 17, 29, 57, 21, 26, 41, 70, 54, 36, 75,\n",
       "        96, 37, 93, 21, 21,  1, 26, 46, 12, 42, 84, 39, 52,  9, 31, 34, 81,\n",
       "        12, 73, 74, 87, 76, 86, 32, 95, 56, 10, 12,  6, 35, 42, 58, 11, 60,\n",
       "        91, 60, 49, 78, 66, 55, 64, 94, 88, 83, 45, 80,  8,  7, 49])}"
      ]
     },
     "execution_count": 68,
     "metadata": {},
     "output_type": "execute_result"
    }
   ],
   "source": [
    "pipe_random_search_reg['regresor'].cv_results_"
   ]
  },
  {
   "cell_type": "code",
   "execution_count": 71,
   "id": "0be786e9",
   "metadata": {
    "ExecuteTime": {
     "end_time": "2022-03-10T11:05:55.344472Z",
     "start_time": "2022-03-10T11:02:20.917922Z"
    }
   },
   "outputs": [
    {
     "name": "stdout",
     "output_type": "stream",
     "text": [
      "Fitting 3 folds for each of 288 candidates, totalling 864 fits\n"
     ]
    }
   ],
   "source": [
    "# Create the parameter grid based on the results of random search \n",
    "scaler = StandardScaler()\n",
    "\n",
    "param_grid = {\n",
    "    'bootstrap': [True],\n",
    "    'max_depth': [80, 90, 100, 110],\n",
    "    'max_features': [2, 3],\n",
    "    'min_samples_leaf': [3, 4, 5],\n",
    "    'min_samples_split': [8, 10, 12],\n",
    "    'n_estimators': [100, 200, 300, 1000]\n",
    "}\n",
    "\n",
    "# Create a base model\n",
    "rf = RandomForestRegressor(random_state = 42)\n",
    "\n",
    "# Instantiate the grid search model\n",
    "grid_search = GridSearchCV(estimator = rf, param_grid = param_grid, \n",
    "                          cv = 3, n_jobs = -1, verbose = 2, return_train_score=True)\n",
    "pipe_grid_reg = Pipeline([('scaler', scaler),\n",
    "                     ('regresor', grid_search)\n",
    "                    ]);\n",
    "# Fit the random search model\n",
    "pipe_grid_reg.fit(X_train, y_train);"
   ]
  },
  {
   "cell_type": "code",
   "execution_count": 72,
   "id": "6133956d",
   "metadata": {
    "ExecuteTime": {
     "end_time": "2022-03-10T11:07:25.305707Z",
     "start_time": "2022-03-10T11:07:25.293570Z"
    }
   },
   "outputs": [
    {
     "data": {
      "text/plain": [
       "{'bootstrap': True,\n",
       " 'max_depth': 80,\n",
       " 'max_features': 3,\n",
       " 'min_samples_leaf': 3,\n",
       " 'min_samples_split': 8,\n",
       " 'n_estimators': 1000}"
      ]
     },
     "execution_count": 72,
     "metadata": {},
     "output_type": "execute_result"
    }
   ],
   "source": [
    "grid_search.best_params_"
   ]
  },
  {
   "cell_type": "code",
   "execution_count": 76,
   "id": "07362273",
   "metadata": {
    "ExecuteTime": {
     "end_time": "2022-03-10T11:09:11.500411Z",
     "start_time": "2022-03-10T11:09:11.333624Z"
    }
   },
   "outputs": [
    {
     "name": "stdout",
     "output_type": "stream",
     "text": [
      "Model Performance\n",
      "Average Error: 6.2835 degrees.\n",
      "Accuracy = 55.08%.\n"
     ]
    }
   ],
   "source": [
    "best_grid = pipe_grid_reg['regresor'].best_estimator_\n",
    "grid_accuracy = evaluate(best_grid, X_train, y_train)"
   ]
  },
  {
   "cell_type": "code",
   "execution_count": 77,
   "id": "0e9e9d5e",
   "metadata": {
    "ExecuteTime": {
     "end_time": "2022-03-10T11:09:50.814408Z",
     "start_time": "2022-03-10T11:09:50.718166Z"
    }
   },
   "outputs": [
    {
     "name": "stdout",
     "output_type": "stream",
     "text": [
      "RMSE on train data:  0.5548837872732552\n",
      "RMSE on test data:  1.559695483099185\n"
     ]
    }
   ],
   "source": [
    "# Predict the target on train and test data\n",
    "predict_train = pipe_base_reg.predict(X_train)\n",
    "predict_test = pipe_base_reg.predict(X_test)\n",
    "\n",
    "# Root Mean Squared Error on train and test data\n",
    "print('RMSE on train data: ', mean_squared_error(y_train, predict_train)**(0.5))\n",
    "print('RMSE on test data: ',  mean_squared_error(y_test, predict_test)**(0.5))"
   ]
  },
  {
   "cell_type": "code",
   "execution_count": 80,
   "id": "182e1392",
   "metadata": {
    "ExecuteTime": {
     "end_time": "2022-03-10T11:10:54.319736Z",
     "start_time": "2022-03-10T11:10:53.717759Z"
    }
   },
   "outputs": [
    {
     "name": "stdout",
     "output_type": "stream",
     "text": [
      "RMSE on train data:  1.0892367369892297\n",
      "RMSE on test data:  1.536738064004161\n"
     ]
    }
   ],
   "source": [
    "# Predict the target on train and test data\n",
    "predict_train = pipe_grid_reg.predict(X_train)\n",
    "predict_test = pipe_grid_reg.predict(X_test)\n",
    "\n",
    "# Root Mean Squared Error on train and test data\n",
    "print('RMSE on train data: ', mean_squared_error(y_train, predict_train)**(0.5))\n",
    "print('RMSE on test data: ',  mean_squared_error(y_test, predict_test)**(0.5))"
   ]
  },
  {
   "cell_type": "code",
   "execution_count": 84,
   "id": "6c208a74",
   "metadata": {
    "ExecuteTime": {
     "end_time": "2022-03-10T11:39:24.655358Z",
     "start_time": "2022-03-10T11:39:24.631149Z"
    }
   },
   "outputs": [
    {
     "name": "stdout",
     "output_type": "stream",
     "text": [
      "0.93 accuracy with a standard deviation of 0.01\n"
     ]
    }
   ],
   "source": [
    "print(\"%0.2f accuracy with a standard deviation of %0.2f\" % (scores.mean(), scores.std()))\n"
   ]
  },
  {
   "cell_type": "markdown",
   "id": "5d17f50d",
   "metadata": {
    "ExecuteTime": {
     "end_time": "2022-03-10T12:08:52.539405Z",
     "start_time": "2022-03-10T12:08:52.528405Z"
    }
   },
   "source": [
    "***\n",
    "## Exercici 2\n",
    "Agafa un text en anglès que vulguis, i calcula'n la freqüència de les paraules\n",
    "\n",
    "https://www.theguardian.com/commentisfree/2022/mar/10/ukraine-boycott-russian-blood-oil-volodymyr-zelenskiy\n",
    "\n",
    "\n",
    "**World leaders are afraid to ban Russia’s oil. Ukraine’s only hope is ordinary people** \n",
    "\n",
    "Oleg Ustenko"
   ]
  },
  {
   "cell_type": "code",
   "execution_count": 66,
   "id": "b563aad6",
   "metadata": {
    "ExecuteTime": {
     "end_time": "2022-03-10T21:31:42.559213Z",
     "start_time": "2022-03-10T21:31:41.871471Z"
    }
   },
   "outputs": [],
   "source": [
    "import nltk\n",
    "#nltk.download('punkt')\n",
    "#nltk.download('stopwords')\n",
    "#nltk.download('vader_lexicon')\n",
    "from nltk.tokenize import sent_tokenize, word_tokenize\n",
    "from nltk.probability import FreqDist\n",
    "from nltk.corpus import stopwords\n",
    "from nltk.stem import PorterStemmer\n",
    "from nltk.sentiment import SentimentIntensityAnalyzer"
   ]
  },
  {
   "cell_type": "code",
   "execution_count": 67,
   "id": "73e3e744",
   "metadata": {
    "ExecuteTime": {
     "end_time": "2022-03-10T21:31:42.823000Z",
     "start_time": "2022-03-10T21:31:42.814871Z"
    }
   },
   "outputs": [],
   "source": [
    "articulo_file = open('TheGuardianUkraina2.txt', \"r\",encoding='utf-8')\n",
    "articulo=articulo_file.read()"
   ]
  },
  {
   "cell_type": "code",
   "execution_count": 68,
   "id": "38883597",
   "metadata": {
    "ExecuteTime": {
     "end_time": "2022-03-10T21:31:45.412881Z",
     "start_time": "2022-03-10T21:31:45.373873Z"
    }
   },
   "outputs": [
    {
     "name": "stdout",
     "output_type": "stream",
     "text": [
      "Word tokenization:\n",
      "['\\ufeffRussian', 'oil', 'is', 'funding', 'the', 'invasion', 'of', 'Ukraine', 'and', 'the', 'murder', 'of', 'innocent', 'people', ',', 'just', 'as', 'money', 'from', 'the', 'sale', 'of', 'blood', 'diamonds', 'fuelled', 'brutal', 'civil', 'war', 'in', 'Africa', '.', 'We', 'must', 'cut', 'off', 'this', 'funding', 'at', 'source', '.', 'This', 'trade', 'can', 'and', 'must', 'be', 'stopped', 'through', 'pressure', 'brought', 'by', 'you', ',', 'the', 'consumer', ',', 'on', 'companies', 'and', 'governments', '.', 'Vladimir', 'Putin', 'sells', '5m', 'barrels', 'of', 'crude', 'oil', 'per', 'day', ',', 'a', 'large', 'share', 'of', 'which', 'goes', 'to', 'Europe', '.', 'Today', ',', 'as', 'EU', 'leaders', 'gather', 'to', 'discuss', 'the', 'crisis', ',', 'we', 'call', 'on', 'people', 'everywhere', 'to', 'boycott', 'Russian', 'oil', 'now', '.', 'We', 'are', 'receiving', 'great', 'support', 'from', 'many', 'governments', 'and', 'people', '.', 'They', 'are', 'taking', 'in', 'our', 'refugees', ',', 'they', 'are', 'sending', 'us', 'food', 'and', 'medicine', ',', 'and', 'they', 'voted', 'against', 'Putin', '’', 's', 'war', 'at', 'the', 'United', 'Nations', '.', 'On', 'Tuesday', ',', 'the', 'Biden', 'administration', 'agreed', 'to', 'ban', 'all', 'US', 'imports', 'of', 'Russian', 'oil', 'and', 'gas', '.', 'But', 'political', 'leaders', 'in', 'Germany', ',', 'Italy', ',', 'the', 'UK', ',', 'and', 'some', 'other', 'countries', 'are', 'afraid', 'to', 'impose', 'an', 'immediate', 'embargo', '.', 'They', 'are', 'afraid', 'that', 'oil', 'prices', 'will', 'go', 'up', ',', 'and', 'that', 'their', 'voters', 'won', '’', 't', 'understand', 'why', ',', 'or', 'will', 'be', 'too', 'angry', 'to', 'care', '.', 'Advertisement', 'You', ',', 'the', 'public', ',', 'know', 'better', '.', 'You', 'are', 'already', 'on', 'the', 'streets', 'and', 'across', 'social', 'media', 'expressing', 'support', 'for', 'Ukraine', '.', 'We', 'appreciate', 'all', 'the', 'videos', 'sending', 'the', 'clear', 'message', 'that', 'you', 'are', 'appalled', 'by', 'the', 'horror', 'Putin', 'has', 'brought', '.', 'But', 'your', 'governments', 'still', 'fear', 'that', 'if', 'they', 'embargo', 'Russian', 'oil', ',', 'you', 'will', 'hold', 'it', 'against', 'them', '.', 'If', 'there', 'is', 'a', 'boycott', 'of', 'Russian', 'oil', ',', 'a', 'plan', 'can', 'be', 'put', 'in', 'place', 'to', 'address', 'short-term', 'supply', 'issues', '.', 'In', 'the', 'longer', 'term', ',', 'it', 'is', 'obviously', 'now', 'a', 'national', 'security', 'imperative', 'for', 'all', 'countries', 'to', 'speedily', 'move', 'away', 'from', 'their', 'reliance', 'on', 'fossil', 'fuels', '.', 'What', 'we', 'are', 'requesting', 'will', 'only', 'accelerate', 'the', 'transition', 'needed', 'to', 'address', 'the', 'climate', 'crisis', '.', 'Yet', 'despite', 'indiscriminate', 'murder', 'happening', 'in', 'Ukrainian', 'streets', 'and', 'pledges', 'of', 'action', 'from', 'the', 'most', 'powerful', 'world', 'leaders', 'at', 'Cop26', 'in', 'November', ',', 'European', 'governments', 'still', 'hesitate', '.', 'If', 'we', 'can', 'not', 'end', 'the', 'age', 'of', 'fossil', 'fuels', 'in', 'the', 'face', 'of', 'civilian', 'slaughter', 'and', 'the', 'destruction', 'of', 'our', 'planet', ',', 'what', 'will', 'it', 'take', '?', 'Let', '’', 's', 'make', 'it', 'easy', 'for', 'them', '.', 'We', 'are', 'organising', 'a', 'coalition', 'to', 'track', 'the', 'tankers', 'that', 'transport', 'Russian', 'oil', 'and', 'tell', 'you', 'where', 'they', 'are', '.', 'The', 'Russians', 'will', 'try', 'to', 'hide', 'this', 'information', ',', 'but', 'we', 'will', 'tell', 'you', 'where', 'the', 'ships', 'are', '.', 'Last', 'week', ',', 'Shell', 'bought', 'a', 'shipment', 'of', 'Russian', 'oil', ',', 'reportedly', 'because', 'it', 'was', 'available', 'at', 'a', 'discount', 'of', 'just', 'under', '$', '30', 'per', 'barrel', '.', 'The', 'public', 'backlash', 'was', 'immediate', ',', 'and', 'on', '8', 'March', ',', 'Shell', 'pledged', 'to', 'no', 'longer', 'buy', 'Russian', 'oil', '.', 'We', 'need', 'all', 'oil', 'companies', 'to', 'do', 'the', 'same', '.', 'These', 'companies', 'may', 'not', 'listen', 'to', 'the', 'cries', 'of', 'Ukrainian', 'children', ',', 'but', 'they', 'will', 'listen', 'to', 'you', ',', 'their', 'customers', '.', 'Most', 'oil', 'is', 'used', 'for', 'transportation', ',', 'including', 'for', 'personal', 'cars', ',', 'lorries', 'and', 'planes', '.', 'Please', 'do', 'not', 'buy', 'petrol', 'or', 'diesel', 'from', 'any', 'company', 'that', 'is', 'refining', 'Russian', 'oil', '.', 'Do', 'not', 'fly', 'on', 'an', 'airline', 'that', 'uses', 'jet', 'fuel', 'made', 'from', 'Russian', 'oil', '.', 'Advertisement', 'Demand', 'of', 'your', 'leaders', 'that', 'no', 'Russian', 'oil', 'is', 'offloaded', 'in', 'your', 'ports', '.', 'Do', 'not', 'insure', 'their', 'cargo', ',', 'do', 'not', 'lease', 'ships', 'to', 'them', 'and', 'do', 'not', 'transport', 'any', 'oil', 'or', 'refined', 'products', 'inside', 'your', 'countries', '.', 'Please', 'do', 'not', 'conduct', 'any', 'personal', 'or', 'corporate', 'financial', 'transaction', 'with', 'Russian', 'oil', 'companies', ',', 'their', 'managers', ',', 'or', 'owners', '.', 'This', 'is', 'all', 'blood', 'oil', 'and', 'blood', 'money', '.', 'Any', 'executive', 'who', 'makes', 'the', 'decision', 'to', 'buy', 'blood', 'oil', 'or', 'any', 'products', 'derived', 'from', 'blood', 'oil', 'will', 'damage', 'their', 'brand', 'and', 'destroy', 'shareholder', 'value', '–', 'anyone', 'that', 'incompetent', 'should', 'be', 'fired', 'immediately', '.', 'We', 'will', 'make', 'this', 'point', 'to', 'boards', 'of', 'directors', 'and', 'shareholders', 'everywhere', '.', 'We', 'will', 'also', 'help', 'bring', 'lawsuits', ',', 'on', 'behalf', 'of', 'innocent', 'Ukrainians', 'who', 'have', 'suffered', 'irreparable', 'harm', ',', 'against', 'any', 'individuals', 'or', 'companies', 'that', 'profit', 'from', 'blood', 'oil', '.', 'To', 'the', 'extent', 'permissible', 'by', 'law', 'in', 'all', 'relevant', 'jurisdictions', ',', 'on', 'behalf', 'of', 'the', 'dead', ',', 'injured', ',', 'displaced', 'and', 'traumatised', ',', 'we', 'will', 'pursue', 'immediate', 'injunctions', 'and', 'maximum', 'damages', 'from', 'all', 'parties', 'who', 'now', 'help', 'Russia', '.', 'Putin', 'thinks', 'he', 'is', 'strong', 'because', 'Russia', 'is', 'the', 'second-largest', 'oil', 'exporter', 'in', 'the', 'world', '.', 'But', 'he', 'is', 'weak', 'because', 'he', 'has', 'put', 'himself', 'in', 'your', 'hands', 'and', 'you', 'are', 'angry', 'because', 'he', 'is', 'terrorising', 'Ukrainian', 'civilians', 'and', 'threatening', 'the', 'world', '.', 'We', 'are', 'standing', 'up', 'to', 'Putin', 'and', 'we', 'will', 'win', '.', 'Our', 'soldiers', 'are', 'well-trained', 'and', 'millions', 'of', 'our', 'citizens', 'are', 'taking', 'up', 'arms', '.', 'There', 'is', 'no', 'way', 'for', 'Putin', 'to', 'take', 'over', 'and', 'control', 'a', 'country', 'with', 'more', 'than', '40', 'million', 'angry', 'people', ',', 'all', 'shouting', ',', '“', 'Go', 'home', '!', '”', '.But', 'many', 'Ukrainians', ',', 'including', 'thousands', 'and', 'thousands', 'of', 'children', ',', 'are', 'suffering', 'every', 'hour', 'of', 'every', 'day', '.', 'Unarmed', 'civilians', 'are', 'being', 'bombarded', 'constantly', '.', 'They', 'hide', 'underground', '.', 'They', 'do', 'not', 'have', 'enough', 'food', 'or', 'water', '.', 'Many', 'lack', 'the', 'medicines', 'they', 'need', '.', 'More', 'than', '50', 'children', 'have', 'died', 'in', 'tragic', 'circumstances', '.', 'Thousands', 'of', 'lives', 'hang', 'in', 'the', 'balance', '.', 'The', 'movement', 'against', 'blood', 'diamonds', 'changed', 'the', 'world', ',', 'but', 'it', 'took', 'years', '.', 'Greed', 'is', 'very', 'powerful', '.', 'But', 'we', ',', 'the', 'people', ',', 'are', 'more', 'powerful', 'and', 'when', 'we', 'focus', 'our', 'anger', ',', 'we', 'can', 'achieve', 'anything', 'and', 'stop', 'anyone', '.', 'We', 'must', 'end', 'this', 'war', '.', 'You', 'can', 'help', 'us', '.', 'Tell', 'your', 'governments', ':', 'not', 'in', 'my', 'name', '.', 'Boycott', 'Russian', 'oil', 'now', '.', 'Oleg', 'Ustenko', 'is', 'an', 'adviser', 'to', 'the', 'president', 'of', 'Ukraine', 'on', 'economic', 'issues']\n",
      "\n",
      "Word tokenization without punctuation:\n",
      "['oil', 'is', 'funding', 'the', 'invasion', 'of', 'Ukraine', 'and', 'the', 'murder', 'of', 'innocent', 'people', 'just', 'as', 'money', 'from', 'the', 'sale', 'of', 'blood', 'diamonds', 'fuelled', 'brutal', 'civil', 'war', 'in', 'Africa', 'We', 'must', 'cut', 'off', 'this', 'funding', 'at', 'source', 'This', 'trade', 'can', 'and', 'must', 'be', 'stopped', 'through', 'pressure', 'brought', 'by', 'you', 'the', 'consumer', 'on', 'companies', 'and', 'governments', 'Vladimir', 'Putin', 'sells', '5m', 'barrels', 'of', 'crude', 'oil', 'per', 'day', 'a', 'large', 'share', 'of', 'which', 'goes', 'to', 'Europe', 'Today', 'as', 'EU', 'leaders', 'gather', 'to', 'discuss', 'the', 'crisis', 'we', 'call', 'on', 'people', 'everywhere', 'to', 'boycott', 'Russian', 'oil', 'now', 'We', 'are', 'receiving', 'great', 'support', 'from', 'many', 'governments', 'and', 'people', 'They', 'are', 'taking', 'in', 'our', 'refugees', 'they', 'are', 'sending', 'us', 'food', 'and', 'medicine', 'and', 'they', 'voted', 'against', 'Putin', 's', 'war', 'at', 'the', 'United', 'Nations', 'On', 'Tuesday', 'the', 'Biden', 'administration', 'agreed', 'to', 'ban', 'all', 'US', 'imports', 'of', 'Russian', 'oil', 'and', 'gas', 'But', 'political', 'leaders', 'in', 'Germany', 'Italy', 'the', 'UK', 'and', 'some', 'other', 'countries', 'are', 'afraid', 'to', 'impose', 'an', 'immediate', 'embargo', 'They', 'are', 'afraid', 'that', 'oil', 'prices', 'will', 'go', 'up', 'and', 'that', 'their', 'voters', 'won', 't', 'understand', 'why', 'or', 'will', 'be', 'too', 'angry', 'to', 'care', 'Advertisement', 'You', 'the', 'public', 'know', 'better', 'You', 'are', 'already', 'on', 'the', 'streets', 'and', 'across', 'social', 'media', 'expressing', 'support', 'for', 'Ukraine', 'We', 'appreciate', 'all', 'the', 'videos', 'sending', 'the', 'clear', 'message', 'that', 'you', 'are', 'appalled', 'by', 'the', 'horror', 'Putin', 'has', 'brought', 'But', 'your', 'governments', 'still', 'fear', 'that', 'if', 'they', 'embargo', 'Russian', 'oil', 'you', 'will', 'hold', 'it', 'against', 'them', 'If', 'there', 'is', 'a', 'boycott', 'of', 'Russian', 'oil', 'a', 'plan', 'can', 'be', 'put', 'in', 'place', 'to', 'address', 'supply', 'issues', 'In', 'the', 'longer', 'term', 'it', 'is', 'obviously', 'now', 'a', 'national', 'security', 'imperative', 'for', 'all', 'countries', 'to', 'speedily', 'move', 'away', 'from', 'their', 'reliance', 'on', 'fossil', 'fuels', 'What', 'we', 'are', 'requesting', 'will', 'only', 'accelerate', 'the', 'transition', 'needed', 'to', 'address', 'the', 'climate', 'crisis', 'Yet', 'despite', 'indiscriminate', 'murder', 'happening', 'in', 'Ukrainian', 'streets', 'and', 'pledges', 'of', 'action', 'from', 'the', 'most', 'powerful', 'world', 'leaders', 'at', 'Cop26', 'in', 'November', 'European', 'governments', 'still', 'hesitate', 'If', 'we', 'can', 'not', 'end', 'the', 'age', 'of', 'fossil', 'fuels', 'in', 'the', 'face', 'of', 'civilian', 'slaughter', 'and', 'the', 'destruction', 'of', 'our', 'planet', 'what', 'will', 'it', 'take', 'Let', 's', 'make', 'it', 'easy', 'for', 'them', 'We', 'are', 'organising', 'a', 'coalition', 'to', 'track', 'the', 'tankers', 'that', 'transport', 'Russian', 'oil', 'and', 'tell', 'you', 'where', 'they', 'are', 'The', 'Russians', 'will', 'try', 'to', 'hide', 'this', 'information', 'but', 'we', 'will', 'tell', 'you', 'where', 'the', 'ships', 'are', 'Last', 'week', 'Shell', 'bought', 'a', 'shipment', 'of', 'Russian', 'oil', 'reportedly', 'because', 'it', 'was', 'available', 'at', 'a', 'discount', 'of', 'just', 'under', '30', 'per', 'barrel', 'The', 'public', 'backlash', 'was', 'immediate', 'and', 'on', '8', 'March', 'Shell', 'pledged', 'to', 'no', 'longer', 'buy', 'Russian', 'oil', 'We', 'need', 'all', 'oil', 'companies', 'to', 'do', 'the', 'same', 'These', 'companies', 'may', 'not', 'listen', 'to', 'the', 'cries', 'of', 'Ukrainian', 'children', 'but', 'they', 'will', 'listen', 'to', 'you', 'their', 'customers', 'Most', 'oil', 'is', 'used', 'for', 'transportation', 'including', 'for', 'personal', 'cars', 'lorries', 'and', 'planes', 'Please', 'do', 'not', 'buy', 'petrol', 'or', 'diesel', 'from', 'any', 'company', 'that', 'is', 'refining', 'Russian', 'oil', 'Do', 'not', 'fly', 'on', 'an', 'airline', 'that', 'uses', 'jet', 'fuel', 'made', 'from', 'Russian', 'oil', 'Advertisement', 'Demand', 'of', 'your', 'leaders', 'that', 'no', 'Russian', 'oil', 'is', 'offloaded', 'in', 'your', 'ports', 'Do', 'not', 'insure', 'their', 'cargo', 'do', 'not', 'lease', 'ships', 'to', 'them', 'and', 'do', 'not', 'transport', 'any', 'oil', 'or', 'refined', 'products', 'inside', 'your', 'countries', 'Please', 'do', 'not', 'conduct', 'any', 'personal', 'or', 'corporate', 'financial', 'transaction', 'with', 'Russian', 'oil', 'companies', 'their', 'managers', 'or', 'owners', 'This', 'is', 'all', 'blood', 'oil', 'and', 'blood', 'money', 'Any', 'executive', 'who', 'makes', 'the', 'decision', 'to', 'buy', 'blood', 'oil', 'or', 'any', 'products', 'derived', 'from', 'blood', 'oil', 'will', 'damage', 'their', 'brand', 'and', 'destroy', 'shareholder', 'value', 'anyone', 'that', 'incompetent', 'should', 'be', 'fired', 'immediately', 'We', 'will', 'make', 'this', 'point', 'to', 'boards', 'of', 'directors', 'and', 'shareholders', 'everywhere', 'We', 'will', 'also', 'help', 'bring', 'lawsuits', 'on', 'behalf', 'of', 'innocent', 'Ukrainians', 'who', 'have', 'suffered', 'irreparable', 'harm', 'against', 'any', 'individuals', 'or', 'companies', 'that', 'profit', 'from', 'blood', 'oil', 'To', 'the', 'extent', 'permissible', 'by', 'law', 'in', 'all', 'relevant', 'jurisdictions', 'on', 'behalf', 'of', 'the', 'dead', 'injured', 'displaced', 'and', 'traumatised', 'we', 'will', 'pursue', 'immediate', 'injunctions', 'and', 'maximum', 'damages', 'from', 'all', 'parties', 'who', 'now', 'help', 'Russia', 'Putin', 'thinks', 'he', 'is', 'strong', 'because', 'Russia', 'is', 'the', 'oil', 'exporter', 'in', 'the', 'world', 'But', 'he', 'is', 'weak', 'because', 'he', 'has', 'put', 'himself', 'in', 'your', 'hands', 'and', 'you', 'are', 'angry', 'because', 'he', 'is', 'terrorising', 'Ukrainian', 'civilians', 'and', 'threatening', 'the', 'world', 'We', 'are', 'standing', 'up', 'to', 'Putin', 'and', 'we', 'will', 'win', 'Our', 'soldiers', 'are', 'and', 'millions', 'of', 'our', 'citizens', 'are', 'taking', 'up', 'arms', 'There', 'is', 'no', 'way', 'for', 'Putin', 'to', 'take', 'over', 'and', 'control', 'a', 'country', 'with', 'more', 'than', '40', 'million', 'angry', 'people', 'all', 'shouting', 'Go', 'home', 'many', 'Ukrainians', 'including', 'thousands', 'and', 'thousands', 'of', 'children', 'are', 'suffering', 'every', 'hour', 'of', 'every', 'day', 'Unarmed', 'civilians', 'are', 'being', 'bombarded', 'constantly', 'They', 'hide', 'underground', 'They', 'do', 'not', 'have', 'enough', 'food', 'or', 'water', 'Many', 'lack', 'the', 'medicines', 'they', 'need', 'More', 'than', '50', 'children', 'have', 'died', 'in', 'tragic', 'circumstances', 'Thousands', 'of', 'lives', 'hang', 'in', 'the', 'balance', 'The', 'movement', 'against', 'blood', 'diamonds', 'changed', 'the', 'world', 'but', 'it', 'took', 'years', 'Greed', 'is', 'very', 'powerful', 'But', 'we', 'the', 'people', 'are', 'more', 'powerful', 'and', 'when', 'we', 'focus', 'our', 'anger', 'we', 'can', 'achieve', 'anything', 'and', 'stop', 'anyone', 'We', 'must', 'end', 'this', 'war', 'You', 'can', 'help', 'us', 'Tell', 'your', 'governments', 'not', 'in', 'my', 'name', 'Boycott', 'Russian', 'oil', 'now', 'Oleg', 'Ustenko', 'is', 'an', 'adviser', 'to', 'the', 'president', 'of', 'Ukraine', 'on', 'economic', 'issues']\n"
     ]
    }
   ],
   "source": [
    "# Tokenization\n",
    "tokenized_word_raw = word_tokenize(articulo)\n",
    "print(\"Word tokenization:\")\n",
    "print(tokenized_word_raw)\n",
    "\n",
    "# Remove punctuation\n",
    "tokenized_word= [word for word in tokenized_word_raw if word.isalnum()]\n",
    "print(\"\\nWord tokenization without punctuation:\")\n",
    "print(tokenized_word)"
   ]
  },
  {
   "cell_type": "code",
   "execution_count": 69,
   "id": "7271da5e",
   "metadata": {
    "ExecuteTime": {
     "end_time": "2022-03-10T21:31:57.688765Z",
     "start_time": "2022-03-10T21:31:57.278417Z"
    }
   },
   "outputs": [
    {
     "data": {
      "image/png": "[encoded data removed]",
      "text/plain": [
       "<Figure size 432x288 with 1 Axes>"
      ]
     },
     "metadata": {
      "needs_background": "light"
     },
     "output_type": "display_data"
    },
    {
     "name": "stdout",
     "output_type": "stream",
     "text": [
      "    the     and     oil      of      to     are      is      in    will Russian    that     not    from      We      on      we       a     all      or   blood \n",
      "     35      29      23      23      21      18      14      14      13      12      10      10       9       9       9       9       8       8       8       7 \n"
     ]
    }
   ],
   "source": [
    "# Frequency distribution\n",
    "fdist = FreqDist(tokenized_word)\n",
    "\n",
    "fdist.plot(20, title=\"Frequency distribution of words (top 20)\", cumulative=False)\n",
    "plt.show()\n",
    "\n",
    "fdist.tabulate(20)\n"
   ]
  },
  {
   "cell_type": "markdown",
   "id": "e1e665bd",
   "metadata": {},
   "source": [
    "## Exercici 1\n",
    "Treu les stopwords i realitza stemming al teu conjunt de dades."
   ]
  },
  {
   "cell_type": "code",
   "execution_count": 70,
   "id": "6a89fbc9",
   "metadata": {
    "ExecuteTime": {
     "end_time": "2022-03-10T21:32:40.973927Z",
     "start_time": "2022-03-10T21:32:40.942902Z"
    }
   },
   "outputs": [
    {
     "name": "stdout",
     "output_type": "stream",
     "text": [
      "{\"aren't\", 'her', 'your', 'mustn', 'them', \"won't\", \"shan't\", 'on', 'and', 'wouldn', 'here', 'herself', 'then', 'yourselves', 'through', 'why', 'what', 'couldn', 'hers', 'ourselves', 'to', 'our', 'isn', 'off', \"you're\", 'are', 'had', 'over', 'same', \"don't\", \"shouldn't\", 'that', 'if', 'have', 'his', 'has', 'by', 'for', \"hasn't\", 'been', 'yourself', 'll', \"didn't\", 'myself', 'theirs', 'between', 'wasn', 'did', 'won', 'below', 'at', \"doesn't\", 'because', 'they', \"you'll\", 'any', 'in', 's', 'was', 'does', 'against', 'o', \"that'll\", 'but', 'how', 'out', 'needn', 'it', 'again', 'mightn', 'weren', 'will', 'nor', 'which', 'this', 'those', 'no', 'these', 'i', 'doesn', 'yours', 'above', 'should', 'before', 'being', 'itself', 'himself', 'under', 'hadn', 'me', 'from', 'as', 'very', 'ma', 'while', 'not', 'him', 'ours', 'so', 'their', 'is', 'both', 'or', 'ain', 'doing', \"wasn't\", 'having', 'shan', 'own', 'who', 'whom', 'he', 'when', 'of', 'themselves', 'a', \"hadn't\", 'd', 'other', 'am', 'after', 'aren', 'didn', 'down', 'only', 'she', 'than', \"should've\", 'most', 'hasn', 'few', 'you', 'now', \"mustn't\", \"it's\", 'there', 'where', 'haven', 'more', 'up', 'my', 'shouldn', 'were', \"haven't\", \"isn't\", 'its', 'can', \"you'd\", 've', 'we', 'each', 'about', 'further', 'an', 'such', 'during', 'too', 'the', \"wouldn't\", 'do', 'with', \"you've\", \"mightn't\", 're', \"needn't\", 'don', \"couldn't\", 'all', 'until', 'once', \"she's\", 't', 'm', 'some', 'y', 'be', \"weren't\", 'into', 'just'}\n"
     ]
    }
   ],
   "source": [
    "stop_words=set(stopwords.words(\"english\"))\n",
    "print(stop_words)"
   ]
  },
  {
   "cell_type": "code",
   "execution_count": 71,
   "id": "951f21b0",
   "metadata": {
    "ExecuteTime": {
     "end_time": "2022-03-10T21:32:41.754567Z",
     "start_time": "2022-03-10T21:32:41.745560Z"
    }
   },
   "outputs": [
    {
     "name": "stdout",
     "output_type": "stream",
     "text": [
      "Filterd Sentence: ['oil', 'funding', 'invasion', 'Ukraine', 'murder', 'innocent', 'people', 'money', 'sale', 'blood', 'diamonds', 'fuelled', 'brutal', 'civil', 'war', 'Africa', 'We', 'must', 'cut', 'funding', 'source', 'This', 'trade', 'must', 'stopped', 'pressure', 'brought', 'consumer', 'companies', 'governments', 'Vladimir', 'Putin', 'sells', '5m', 'barrels', 'crude', 'oil', 'per', 'day', 'large', 'share', 'goes', 'Europe', 'Today', 'EU', 'leaders', 'gather', 'discuss', 'crisis', 'call', 'people', 'everywhere', 'boycott', 'Russian', 'oil', 'We', 'receiving', 'great', 'support', 'many', 'governments', 'people', 'They', 'taking', 'refugees', 'sending', 'us', 'food', 'medicine', 'voted', 'Putin', 'war', 'United', 'Nations', 'On', 'Tuesday', 'Biden', 'administration', 'agreed', 'ban', 'US', 'imports', 'Russian', 'oil', 'gas', 'But', 'political', 'leaders', 'Germany', 'Italy', 'UK', 'countries', 'afraid', 'impose', 'immediate', 'embargo', 'They', 'afraid', 'oil', 'prices', 'go', 'voters', 'understand', 'angry', 'care', 'Advertisement', 'You', 'public', 'know', 'better', 'You', 'already', 'streets', 'across', 'social', 'media', 'expressing', 'support', 'Ukraine', 'We', 'appreciate', 'videos', 'sending', 'clear', 'message', 'appalled', 'horror', 'Putin', 'brought', 'But', 'governments', 'still', 'fear', 'embargo', 'Russian', 'oil', 'hold', 'If', 'boycott', 'Russian', 'oil', 'plan', 'put', 'place', 'address', 'supply', 'issues', 'In', 'longer', 'term', 'obviously', 'national', 'security', 'imperative', 'countries', 'speedily', 'move', 'away', 'reliance', 'fossil', 'fuels', 'What', 'requesting', 'accelerate', 'transition', 'needed', 'address', 'climate', 'crisis', 'Yet', 'despite', 'indiscriminate', 'murder', 'happening', 'Ukrainian', 'streets', 'pledges', 'action', 'powerful', 'world', 'leaders', 'Cop26', 'November', 'European', 'governments', 'still', 'hesitate', 'If', 'end', 'age', 'fossil', 'fuels', 'face', 'civilian', 'slaughter', 'destruction', 'planet', 'take', 'Let', 'make', 'easy', 'We', 'organising', 'coalition', 'track', 'tankers', 'transport', 'Russian', 'oil', 'tell', 'The', 'Russians', 'try', 'hide', 'information', 'tell', 'ships', 'Last', 'week', 'Shell', 'bought', 'shipment', 'Russian', 'oil', 'reportedly', 'available', 'discount', '30', 'per', 'barrel', 'The', 'public', 'backlash', 'immediate', '8', 'March', 'Shell', 'pledged', 'longer', 'buy', 'Russian', 'oil', 'We', 'need', 'oil', 'companies', 'These', 'companies', 'may', 'listen', 'cries', 'Ukrainian', 'children', 'listen', 'customers', 'Most', 'oil', 'used', 'transportation', 'including', 'personal', 'cars', 'lorries', 'planes', 'Please', 'buy', 'petrol', 'diesel', 'company', 'refining', 'Russian', 'oil', 'Do', 'fly', 'airline', 'uses', 'jet', 'fuel', 'made', 'Russian', 'oil', 'Advertisement', 'Demand', 'leaders', 'Russian', 'oil', 'offloaded', 'ports', 'Do', 'insure', 'cargo', 'lease', 'ships', 'transport', 'oil', 'refined', 'products', 'inside', 'countries', 'Please', 'conduct', 'personal', 'corporate', 'financial', 'transaction', 'Russian', 'oil', 'companies', 'managers', 'owners', 'This', 'blood', 'oil', 'blood', 'money', 'Any', 'executive', 'makes', 'decision', 'buy', 'blood', 'oil', 'products', 'derived', 'blood', 'oil', 'damage', 'brand', 'destroy', 'shareholder', 'value', 'anyone', 'incompetent', 'fired', 'immediately', 'We', 'make', 'point', 'boards', 'directors', 'shareholders', 'everywhere', 'We', 'also', 'help', 'bring', 'lawsuits', 'behalf', 'innocent', 'Ukrainians', 'suffered', 'irreparable', 'harm', 'individuals', 'companies', 'profit', 'blood', 'oil', 'To', 'extent', 'permissible', 'law', 'relevant', 'jurisdictions', 'behalf', 'dead', 'injured', 'displaced', 'traumatised', 'pursue', 'immediate', 'injunctions', 'maximum', 'damages', 'parties', 'help', 'Russia', 'Putin', 'thinks', 'strong', 'Russia', 'oil', 'exporter', 'world', 'But', 'weak', 'put', 'hands', 'angry', 'terrorising', 'Ukrainian', 'civilians', 'threatening', 'world', 'We', 'standing', 'Putin', 'win', 'Our', 'soldiers', 'millions', 'citizens', 'taking', 'arms', 'There', 'way', 'Putin', 'take', 'control', 'country', '40', 'million', 'angry', 'people', 'shouting', 'Go', 'home', 'many', 'Ukrainians', 'including', 'thousands', 'thousands', 'children', 'suffering', 'every', 'hour', 'every', 'day', 'Unarmed', 'civilians', 'bombarded', 'constantly', 'They', 'hide', 'underground', 'They', 'enough', 'food', 'water', 'Many', 'lack', 'medicines', 'need', 'More', '50', 'children', 'died', 'tragic', 'circumstances', 'Thousands', 'lives', 'hang', 'balance', 'The', 'movement', 'blood', 'diamonds', 'changed', 'world', 'took', 'years', 'Greed', 'powerful', 'But', 'people', 'powerful', 'focus', 'anger', 'achieve', 'anything', 'stop', 'anyone', 'We', 'must', 'end', 'war', 'You', 'help', 'us', 'Tell', 'governments', 'name', 'Boycott', 'Russian', 'oil', 'Oleg', 'Ustenko', 'adviser', 'president', 'Ukraine', 'economic', 'issues']\n"
     ]
    }
   ],
   "source": [
    "filtered_sent=[]\n",
    "for w in tokenized_word:\n",
    "    if w not in stop_words:\n",
    "        filtered_sent.append(w)\n",
    "\n",
    "print(\"Filterd Sentence:\",filtered_sent)"
   ]
  },
  {
   "cell_type": "code",
   "execution_count": 72,
   "id": "de96e41d",
   "metadata": {
    "ExecuteTime": {
     "end_time": "2022-03-10T21:32:43.161287Z",
     "start_time": "2022-03-10T21:32:42.856098Z"
    }
   },
   "outputs": [
    {
     "data": {
      "image/png": "[encoded data removed]",
      "text/plain": [
       "<Figure size 432x288 with 1 Axes>"
      ]
     },
     "metadata": {
      "needs_background": "light"
     },
     "output_type": "display_data"
    },
    {
     "name": "stdout",
     "output_type": "stream",
     "text": [
      "        oil     Russian          We       blood       Putin      people   companies governments     leaders        They         But       world     Ukraine         war        must   countries   immediate       angry         You   Ukrainian \n",
      "         23          12           9           7           6           5           5           5           4           4           4           4           3           3           3           3           3           3           3           3 \n"
     ]
    }
   ],
   "source": [
    "# Frequency distribution\n",
    "fdist = FreqDist(filtered_sent)\n",
    "\n",
    "fdist.plot(20, title=\"Frequency distribution of words (top 20)\", cumulative=False)\n",
    "plt.show()\n",
    "\n",
    "fdist.tabulate(20)"
   ]
  },
  {
   "cell_type": "markdown",
   "id": "7de8bfa8",
   "metadata": {},
   "source": [
    "***\n",
    "## Exercici 1\n",
    "Realitza sentiment analysis al teu conjunt de dades."
   ]
  },
  {
   "cell_type": "code",
   "execution_count": 115,
   "id": "8bba8b3b",
   "metadata": {
    "ExecuteTime": {
     "end_time": "2022-03-10T12:51:06.984146Z",
     "start_time": "2022-03-10T12:51:06.977030Z"
    }
   },
   "outputs": [],
   "source": [
    "##utilizando nklt vader\n"
   ]
  },
  {
   "cell_type": "code",
   "execution_count": 73,
   "id": "80e60539",
   "metadata": {
    "ExecuteTime": {
     "end_time": "2022-03-10T21:33:30.987949Z",
     "start_time": "2022-03-10T21:33:30.926926Z"
    }
   },
   "outputs": [
    {
     "name": "stdout",
     "output_type": "stream",
     "text": [
      "Overall article compound score: -0.9987\n"
     ]
    }
   ],
   "source": [
    "# Sentiment intensity analysis\n",
    "sia = SentimentIntensityAnalyzer()\n",
    "\n",
    "# Compound score can range -1 (negative) to 1 (positive)\n",
    "print(f\"Overall article compound score: {sia.polarity_scores(articulo)['compound']}\")"
   ]
  },
  {
   "cell_type": "code",
   "execution_count": 74,
   "id": "2ea3dd23",
   "metadata": {
    "ExecuteTime": {
     "end_time": "2022-03-10T21:33:32.035555Z",
     "start_time": "2022-03-10T21:33:31.966141Z"
    }
   },
   "outputs": [
    {
     "data": {
      "text/html": [
       "<div>\n",
       "<style scoped>\n",
       "    .dataframe tbody tr th:only-of-type {\n",
       "        vertical-align: middle;\n",
       "    }\n",
       "\n",
       "    .dataframe tbody tr th {\n",
       "        vertical-align: top;\n",
       "    }\n",
       "\n",
       "    .dataframe thead th {\n",
       "        text-align: right;\n",
       "    }\n",
       "</style>\n",
       "<table border=\"1\" class=\"dataframe\">\n",
       "  <thead>\n",
       "    <tr style=\"text-align: right;\">\n",
       "      <th></th>\n",
       "      <th>Sentence</th>\n",
       "      <th>Compound_score</th>\n",
       "    </tr>\n",
       "  </thead>\n",
       "  <tbody>\n",
       "    <tr>\n",
       "      <th>0</th>\n",
       "      <td>﻿Russian oil is funding the invasion of Ukrain...</td>\n",
       "      <td>-0.9062</td>\n",
       "    </tr>\n",
       "    <tr>\n",
       "      <th>1</th>\n",
       "      <td>We must cut off this funding at source.</td>\n",
       "      <td>-0.2732</td>\n",
       "    </tr>\n",
       "    <tr>\n",
       "      <th>2</th>\n",
       "      <td>This trade can and must be stopped through pre...</td>\n",
       "      <td>-0.4767</td>\n",
       "    </tr>\n",
       "    <tr>\n",
       "      <th>3</th>\n",
       "      <td>Vladimir Putin sells 5m barrels of crude oil p...</td>\n",
       "      <td>-0.3612</td>\n",
       "    </tr>\n",
       "    <tr>\n",
       "      <th>4</th>\n",
       "      <td>Today, as EU leaders gather to discuss the cri...</td>\n",
       "      <td>-0.7506</td>\n",
       "    </tr>\n",
       "    <tr>\n",
       "      <th>5</th>\n",
       "      <td>We are receiving great support from many gover...</td>\n",
       "      <td>0.7783</td>\n",
       "    </tr>\n",
       "    <tr>\n",
       "      <th>6</th>\n",
       "      <td>They are taking in our refugees, they are send...</td>\n",
       "      <td>-0.2732</td>\n",
       "    </tr>\n",
       "    <tr>\n",
       "      <th>7</th>\n",
       "      <td>On Tuesday, the Biden administration agreed to...</td>\n",
       "      <td>-0.3612</td>\n",
       "    </tr>\n",
       "    <tr>\n",
       "      <th>8</th>\n",
       "      <td>But political leaders in Germany, Italy, the U...</td>\n",
       "      <td>-0.4215</td>\n",
       "    </tr>\n",
       "    <tr>\n",
       "      <th>9</th>\n",
       "      <td>They are afraid that oil prices will go up, an...</td>\n",
       "      <td>-0.0258</td>\n",
       "    </tr>\n",
       "  </tbody>\n",
       "</table>\n",
       "</div>"
      ],
      "text/plain": [
       "                                            Sentence  Compound_score\n",
       "0  ﻿Russian oil is funding the invasion of Ukrain...         -0.9062\n",
       "1            We must cut off this funding at source.         -0.2732\n",
       "2  This trade can and must be stopped through pre...         -0.4767\n",
       "3  Vladimir Putin sells 5m barrels of crude oil p...         -0.3612\n",
       "4  Today, as EU leaders gather to discuss the cri...         -0.7506\n",
       "5  We are receiving great support from many gover...          0.7783\n",
       "6  They are taking in our refugees, they are send...         -0.2732\n",
       "7  On Tuesday, the Biden administration agreed to...         -0.3612\n",
       "8  But political leaders in Germany, Italy, the U...         -0.4215\n",
       "9  They are afraid that oil prices will go up, an...         -0.0258"
      ]
     },
     "execution_count": 74,
     "metadata": {},
     "output_type": "execute_result"
    }
   ],
   "source": [
    "df = pd.DataFrame(sent_tokenize(articulo), columns=['Sentence'])\n",
    "df['Compound_score'] = df['Sentence'].apply(lambda sentence: sia.polarity_scores(sentence)['compound'])\n",
    "\n",
    "df.head(10)"
   ]
  },
  {
   "cell_type": "code",
   "execution_count": 75,
   "id": "74b25523",
   "metadata": {
    "ExecuteTime": {
     "end_time": "2022-03-10T21:33:33.534630Z",
     "start_time": "2022-03-10T21:33:33.245956Z"
    }
   },
   "outputs": [
    {
     "data": {
      "image/png": "[encoded data removed]",
      "text/plain": [
       "<Figure size 432x288 with 1 Axes>"
      ]
     },
     "metadata": {
      "needs_background": "light"
     },
     "output_type": "display_data"
    }
   ],
   "source": [
    "N_BINS = 30\n",
    "df.Compound_score.hist(bins=N_BINS);\n",
    "plt.title(f'Histogram of sentence compound scores ({N_BINS} bins)');\n",
    "plt.xlabel('Compound score');\n",
    "plt.ylabel('Counts');"
   ]
  },
  {
   "cell_type": "markdown",
   "id": "5ca78685",
   "metadata": {},
   "source": [
    "La mayoría de frases tienen un sentimiento neutro o negativo"
   ]
  },
  {
   "cell_type": "markdown",
   "id": "b501fdf6",
   "metadata": {},
   "source": [
    "***"
   ]
  }
 ],
 "metadata": {
  "kernelspec": {
   "display_name": "Python 3",
   "language": "python",
   "name": "python3"
  },
  "language_info": {
   "codemirror_mode": {
    "name": "ipython",
    "version": 3
   },
   "file_extension": ".py",
   "mimetype": "text/x-python",
   "name": "python",
   "nbconvert_exporter": "python",
   "pygments_lexer": "ipython3",
   "version": "3.8.8"
  }
 },
 "nbformat": 4,
 "nbformat_minor": 5
}
